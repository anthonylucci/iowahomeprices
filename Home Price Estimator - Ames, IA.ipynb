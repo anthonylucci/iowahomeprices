{
 "cells": [
  {
   "cell_type": "markdown",
   "metadata": {},
   "source": [
    "# Predicting Sale Price for Ames Iowa Housing Dataset\n",
    "#### By: [Anthony Lucci](https://git.generalassemb.ly/anthonylucci?tab=repositories)"
   ]
  },
  {
   "cell_type": "markdown",
   "metadata": {},
   "source": [
    "## Problem Statement\n",
    "\n",
    "This projects seeks to create a regression model that can predict home sale prices in Ames, IA with similar accuracy to Zillow's Zestimate model. Zillow consumes a plethora of data into their model:\n",
    "- Home details (bedrooms, square footage, etc.)\n",
    "- Unique features (marble counters, pool house, etc.)\n",
    "- On-market data (comparable homes listed/sold in area, etc.)\n",
    "- Off-market data (tax assessments, foreclosures, etc.)\n",
    "Zillow Zestimate's median %error on home sale prices in Iowa is +/-1.4%. This project will seek to match or beat that by building a regression model against the Ames Assessor Data for the period 2006-2010. The models will be optimized against root mean squared error (RMSE), and RMSE will be calculated as a % of mean sale price to compare against Zestimate."
   ]
  },
  {
   "cell_type": "markdown",
   "metadata": {},
   "source": [
    "## Executive Summary\n",
    "The Ames Assessor Data featured a plethora of categorical columns that needed extensive transformation to be ready for analysis. This categorical data is specific to Ames and provided predictive power in the model that Zillow does not have. Theoretically, this should be an adavantage for our model. Working against us was the fact that the Ames dataset does not have off-market data, does not account for the price of nearby homes, and the fact that we are predicting with a single fitted model. Zillow almost surely uses an ensemble model that has been fine-tuned over the course of years by a large team.\n",
    "\n",
    "|Model|Train R2|Test R2|RMSE|Pct RMSE of mean*|\n",
    "|---|---|---|---|---|\n",
    "|Model 1: MLR w/ Continuous Variables|0.8505|0.8560|25,854|14.2 pct|\n",
    "|Model 2: MLR w/ Continuous Variables|0.8690|0.8820|23,939|13.2 pct|\n",
    "|Model 3: Lasso w/ Full Numeric Set|0.9293|0.9175|18,951|10.4 pct|\n",
    "\n",
    "None of the models had an R2 below 0.85 and all had low variance (<0.02 difference between train and test). The Lasso model outperformed all others, and was the one submitted to Kaggle. It explained approx. 92 percent of the variance in home sale prices.\n",
    "\n",
    "The two variables most correlated with home sale price were Overall Quality and Greater Living Area. Overall quality is a subjective measure determined by the Ames assessor, and greater living area is an approximation of livable sqaure footage. It is unfortunate that the error of the Lasso model was only able to come within +/-10% of sale price despite an R2 of 0.92.\n",
    "\n",
    "*Mean home sale price in Ames train set: $181,479"
   ]
  },
  {
   "cell_type": "markdown",
   "metadata": {},
   "source": [
    "## Table of Contents\n",
    "1. [Loading Data](#Loading-Data)\n",
    "1. [Cleaning Data](#Cleaning-Data)\n",
    "1. [Feature Engineering](#Feature-Engineering)\n",
    "1. [Model Preparation: Baseline](#Model-Preparation:-Baseline)\n",
    "1. [Model 1: MLR w/ Continuous Variables Only](#Model-1:-MLR-w/-Continuous-Variables-Only)\n",
    "1. [Model 2: MLR w/ Continuous & Dummy Variables](#Model-2:-MLR-w/-Continuous-&-Dummy-Variables)\n",
    "1. [Model 3: Lasso](#Model-3:-Lasso)\n",
    "1. [Conclusion/Recommendations](#Conclusion/Recommendations)\n",
    "1. [Kaggle Submission](#Kaggle-Submission)"
   ]
  },
  {
   "cell_type": "markdown",
   "metadata": {},
   "source": [
    "## Loading Data"
   ]
  },
  {
   "cell_type": "code",
   "execution_count": 1,
   "metadata": {},
   "outputs": [],
   "source": [
    "import warnings\n",
    "warnings.filterwarnings(\"ignore\") # Shhhh\n",
    "import numpy as np\n",
    "import pandas as pd\n",
    "import seaborn as sns\n",
    "import matplotlib.pyplot as plt\n",
    "from sklearn.linear_model import LinearRegression\n",
    "from sklearn.model_selection import cross_val_score, train_test_split\n",
    "from sklearn.metrics import mean_squared_error\n",
    "from sklearn.preprocessing import StandardScaler\n",
    "import statsmodels.api as sm\n",
    "from sklearn.linear_model import LassoCV\n",
    "RANDOM_STATE = 90210"
   ]
  },
  {
   "cell_type": "code",
   "execution_count": 2,
   "metadata": {},
   "outputs": [
    {
     "data": {
      "text/plain": [
       "(2051, 81)"
      ]
     },
     "execution_count": 2,
     "metadata": {},
     "output_type": "execute_result"
    }
   ],
   "source": [
    "train_raw = pd.read_csv(\"./data/train.csv\") # this is actually the full dataset\n",
    "\n",
    "train_raw.shape"
   ]
  },
  {
   "cell_type": "code",
   "execution_count": 3,
   "metadata": {},
   "outputs": [
    {
     "data": {
      "text/plain": [
       "(878, 80)"
      ]
     },
     "execution_count": 3,
     "metadata": {},
     "output_type": "execute_result"
    }
   ],
   "source": [
    "validation_raw = pd.read_csv(\"./data/test.csv\") # this is actually the full dataset\n",
    "\n",
    "# test set is missing the SalePrice column\n",
    "validation_raw.shape"
   ]
  },
  {
   "cell_type": "code",
   "execution_count": 4,
   "metadata": {},
   "outputs": [
    {
     "data": {
      "text/plain": [
       "train         2051\n",
       "validation     878\n",
       "Name: dataset, dtype: int64"
      ]
     },
     "execution_count": 4,
     "metadata": {},
     "output_type": "execute_result"
    }
   ],
   "source": [
    "# Adding a column to both datasets to specify train or test\n",
    "train_raw[\"dataset\"] = \"train\"\n",
    "validation_raw[\"dataset\"] = \"validation\"\n",
    "# Adding a SalesPrice column to test data and filling it with zeros so I can concat both sets\n",
    "validation_raw[\"SalePrice\"] = 0\n",
    "\n",
    "# combine train and test sets into one combined df without SalePrice\n",
    "# the \"dataset\" column created above\n",
    "combined = pd.concat([train_raw,validation_raw], axis=0)\n",
    "\n",
    "# the row counts below match the individual train and test dataframes\n",
    "combined[\"dataset\"].value_counts()"
   ]
  },
  {
   "cell_type": "code",
   "execution_count": 5,
   "metadata": {},
   "outputs": [
    {
     "name": "stdout",
     "output_type": "stream",
     "text": [
      "2051, 878\n"
     ]
    }
   ],
   "source": [
    "# use mask to parse combined data into train and test sets\n",
    "# I will perform all of my transformations to combined df and fit my regressions to train df\n",
    "train = combined[combined[\"dataset\"] == \"train\"]\n",
    "validation = combined[combined[\"dataset\"] == \"validation\"]\n",
    "\n",
    "# check to make sure masks worked correctly\n",
    "print(f\"{len(train)}, {len(validation)}\")"
   ]
  },
  {
   "cell_type": "code",
   "execution_count": 6,
   "metadata": {},
   "outputs": [
    {
     "name": "stdout",
     "output_type": "stream",
     "text": [
      "<class 'pandas.core.frame.DataFrame'>\n",
      "Int64Index: 2929 entries, 0 to 877\n",
      "Data columns (total 82 columns):\n",
      "1st Flr SF         2929 non-null int64\n",
      "2nd Flr SF         2929 non-null int64\n",
      "3Ssn Porch         2929 non-null int64\n",
      "Alley              198 non-null object\n",
      "Bedroom AbvGr      2929 non-null int64\n",
      "Bldg Type          2929 non-null object\n",
      "Bsmt Cond          2849 non-null object\n",
      "Bsmt Exposure      2846 non-null object\n",
      "Bsmt Full Bath     2927 non-null float64\n",
      "Bsmt Half Bath     2927 non-null float64\n",
      "Bsmt Qual          2849 non-null object\n",
      "Bsmt Unf SF        2928 non-null float64\n",
      "BsmtFin SF 1       2928 non-null float64\n",
      "BsmtFin SF 2       2928 non-null float64\n",
      "BsmtFin Type 1     2849 non-null object\n",
      "BsmtFin Type 2     2848 non-null object\n",
      "Central Air        2929 non-null object\n",
      "Condition 1        2929 non-null object\n",
      "Condition 2        2929 non-null object\n",
      "Electrical         2928 non-null object\n",
      "Enclosed Porch     2929 non-null int64\n",
      "Exter Cond         2929 non-null object\n",
      "Exter Qual         2929 non-null object\n",
      "Exterior 1st       2929 non-null object\n",
      "Exterior 2nd       2929 non-null object\n",
      "Fence              572 non-null object\n",
      "Fireplace Qu       1507 non-null object\n",
      "Fireplaces         2929 non-null int64\n",
      "Foundation         2929 non-null object\n",
      "Full Bath          2929 non-null int64\n",
      "Functional         2929 non-null object\n",
      "Garage Area        2928 non-null float64\n",
      "Garage Cars        2928 non-null float64\n",
      "Garage Cond        2770 non-null object\n",
      "Garage Finish      2770 non-null object\n",
      "Garage Qual        2770 non-null object\n",
      "Garage Type        2772 non-null object\n",
      "Garage Yr Blt      2770 non-null float64\n",
      "Gr Liv Area        2929 non-null int64\n",
      "Half Bath          2929 non-null int64\n",
      "Heating            2929 non-null object\n",
      "Heating QC         2929 non-null object\n",
      "House Style        2929 non-null object\n",
      "Id                 2929 non-null int64\n",
      "Kitchen AbvGr      2929 non-null int64\n",
      "Kitchen Qual       2929 non-null object\n",
      "Land Contour       2929 non-null object\n",
      "Land Slope         2929 non-null object\n",
      "Lot Area           2929 non-null int64\n",
      "Lot Config         2929 non-null object\n",
      "Lot Frontage       2439 non-null float64\n",
      "Lot Shape          2929 non-null object\n",
      "Low Qual Fin SF    2929 non-null int64\n",
      "MS SubClass        2929 non-null int64\n",
      "MS Zoning          2929 non-null object\n",
      "Mas Vnr Area       2906 non-null float64\n",
      "Mas Vnr Type       2906 non-null object\n",
      "Misc Feature       106 non-null object\n",
      "Misc Val           2929 non-null int64\n",
      "Mo Sold            2929 non-null int64\n",
      "Neighborhood       2929 non-null object\n",
      "Open Porch SF      2929 non-null int64\n",
      "Overall Cond       2929 non-null int64\n",
      "Overall Qual       2929 non-null int64\n",
      "PID                2929 non-null int64\n",
      "Paved Drive        2929 non-null object\n",
      "Pool Area          2929 non-null int64\n",
      "Pool QC            13 non-null object\n",
      "Roof Matl          2929 non-null object\n",
      "Roof Style         2929 non-null object\n",
      "Sale Type          2929 non-null object\n",
      "SalePrice          2929 non-null int64\n",
      "Screen Porch       2929 non-null int64\n",
      "Street             2929 non-null object\n",
      "TotRms AbvGrd      2929 non-null int64\n",
      "Total Bsmt SF      2928 non-null float64\n",
      "Utilities          2929 non-null object\n",
      "Wood Deck SF       2929 non-null int64\n",
      "Year Built         2929 non-null int64\n",
      "Year Remod/Add     2929 non-null int64\n",
      "Yr Sold            2929 non-null int64\n",
      "dataset            2929 non-null object\n",
      "dtypes: float64(11), int64(28), object(43)\n",
      "memory usage: 1.9+ MB\n"
     ]
    }
   ],
   "source": [
    "# MS SubClass is currently an int but should be an object based on data dict\n",
    "combined.info()"
   ]
  },
  {
   "cell_type": "code",
   "execution_count": 7,
   "metadata": {},
   "outputs": [],
   "source": [
    "# set MS SubClass to string\n",
    "combined[\"MS SubClass\"] = combined[\"MS SubClass\"].astype(\"str\")"
   ]
  },
  {
   "cell_type": "markdown",
   "metadata": {},
   "source": [
    "## Cleaning Data"
   ]
  },
  {
   "cell_type": "markdown",
   "metadata": {},
   "source": [
    "### Fill Nulls: Numeric Columns"
   ]
  },
  {
   "cell_type": "code",
   "execution_count": 8,
   "metadata": {},
   "outputs": [],
   "source": [
    "# function for returning the columns with nulls from a dataframe\n",
    "def get_null_cols(dataframe):\n",
    "    # create empty list for null column names to be stored in\n",
    "    null_cols = []\n",
    "    # iterate through columns and append to null columns list when nulls are present\n",
    "    for column in dataframe.columns:\n",
    "        if dataframe[column].isnull().sum() > 0:\n",
    "            null_cols.append(column)\n",
    "        else:\n",
    "            pass\n",
    "    return null_cols"
   ]
  },
  {
   "cell_type": "code",
   "execution_count": 9,
   "metadata": {},
   "outputs": [
    {
     "data": {
      "text/plain": [
       "11"
      ]
     },
     "execution_count": 9,
     "metadata": {},
     "output_type": "execute_result"
    }
   ],
   "source": [
    "# 11 numeric columns have null values\n",
    "len(get_null_cols(combined._get_numeric_data()))"
   ]
  },
  {
   "cell_type": "code",
   "execution_count": 10,
   "metadata": {},
   "outputs": [
    {
     "data": {
      "text/plain": [
       "Lot Frontage      490\n",
       "Garage Yr Blt     159\n",
       "Mas Vnr Area       23\n",
       "Bsmt Half Bath      2\n",
       "Bsmt Full Bath      2\n",
       "Total Bsmt SF       1\n",
       "Garage Cars         1\n",
       "Garage Area         1\n",
       "BsmtFin SF 2        1\n",
       "BsmtFin SF 1        1\n",
       "Bsmt Unf SF         1\n",
       "dtype: int64"
      ]
     },
     "execution_count": 10,
     "metadata": {},
     "output_type": "execute_result"
    }
   ],
   "source": [
    "# all of the numeric columns with nulls are listed as either continuous or discrete in data dict\n",
    "# these will need to be replaced with zeros\n",
    "# Lot Frontage has approx 17% nulls but the rest are far less\n",
    "# Zeroing out these nulls will hurt the betas for these columns, but saves us from dropping the full rows\n",
    "combined.loc[:, get_null_cols(combined._get_numeric_data())].isnull().sum().sort_values(ascending=False) "
   ]
  },
  {
   "cell_type": "code",
   "execution_count": 11,
   "metadata": {},
   "outputs": [],
   "source": [
    "# replacing null values in numeric columns with 0\n",
    "combined._get_numeric_data().fillna(value=0, inplace=True)"
   ]
  },
  {
   "cell_type": "code",
   "execution_count": 12,
   "metadata": {},
   "outputs": [
    {
     "data": {
      "text/plain": [
       "0"
      ]
     },
     "execution_count": 12,
     "metadata": {},
     "output_type": "execute_result"
    }
   ],
   "source": [
    "# There are now zero numeric columns with nulls\n",
    "len(get_null_cols(combined._get_numeric_data()))"
   ]
  },
  {
   "cell_type": "markdown",
   "metadata": {},
   "source": [
    "### Fill Nulls: Object Columns"
   ]
  },
  {
   "cell_type": "code",
   "execution_count": 13,
   "metadata": {},
   "outputs": [
    {
     "data": {
      "text/plain": [
       "16"
      ]
     },
     "execution_count": 13,
     "metadata": {},
     "output_type": "execute_result"
    }
   ],
   "source": [
    "# 16 object columns have null values\n",
    "len(get_null_cols(combined.select_dtypes(include='object')))"
   ]
  },
  {
   "cell_type": "code",
   "execution_count": 14,
   "metadata": {},
   "outputs": [
    {
     "data": {
      "text/plain": [
       "Pool QC           2916\n",
       "Misc Feature      2823\n",
       "Alley             2731\n",
       "Fence             2357\n",
       "Fireplace Qu      1422\n",
       "Garage Qual        159\n",
       "Garage Finish      159\n",
       "Garage Cond        159\n",
       "Garage Type        157\n",
       "Bsmt Exposure       83\n",
       "BsmtFin Type 2      81\n",
       "BsmtFin Type 1      80\n",
       "Bsmt Qual           80\n",
       "Bsmt Cond           80\n",
       "Mas Vnr Type        23\n",
       "Electrical           1\n",
       "dtype: int64"
      ]
     },
     "execution_count": 14,
     "metadata": {},
     "output_type": "execute_result"
    }
   ],
   "source": [
    "combined.loc[:, get_null_cols(combined.select_dtypes(include='object'))].isnull().sum().sort_values(ascending=False)"
   ]
  },
  {
   "cell_type": "code",
   "execution_count": 15,
   "metadata": {},
   "outputs": [
    {
     "data": {
      "text/plain": [
       "array([nan, 'Fa', 'Gd', 'Ex', 'TA'], dtype=object)"
      ]
     },
     "execution_count": 15,
     "metadata": {},
     "output_type": "execute_result"
    }
   ],
   "source": [
    "# Check for unique values \n",
    "combined[\"Pool QC\"].unique()"
   ]
  },
  {
   "cell_type": "code",
   "execution_count": 16,
   "metadata": {},
   "outputs": [
    {
     "data": {
      "text/plain": [
       "array([nan, 'Shed', 'TenC', 'Gar2', 'Othr', 'Elev'], dtype=object)"
      ]
     },
     "execution_count": 16,
     "metadata": {},
     "output_type": "execute_result"
    }
   ],
   "source": [
    "combined[\"Misc Feature\"].unique()"
   ]
  },
  {
   "cell_type": "code",
   "execution_count": 17,
   "metadata": {},
   "outputs": [
    {
     "data": {
      "text/plain": [
       "array([nan, 'Pave', 'Grvl'], dtype=object)"
      ]
     },
     "execution_count": 17,
     "metadata": {},
     "output_type": "execute_result"
    }
   ],
   "source": [
    "combined[\"Alley\"].unique()"
   ]
  },
  {
   "cell_type": "code",
   "execution_count": 18,
   "metadata": {},
   "outputs": [],
   "source": [
    "# replacing null values in object columns with NA\n",
    "for column in get_null_cols(combined.select_dtypes(include='object')):\n",
    "    combined[column].fillna(value='NA', inplace=True)"
   ]
  },
  {
   "cell_type": "code",
   "execution_count": 19,
   "metadata": {
    "scrolled": true
   },
   "outputs": [
    {
     "data": {
      "text/plain": [
       "0"
      ]
     },
     "execution_count": 19,
     "metadata": {},
     "output_type": "execute_result"
    }
   ],
   "source": [
    "# There are now zero object columns with nulls\n",
    "len(get_null_cols(combined.select_dtypes(include='object')))"
   ]
  },
  {
   "cell_type": "markdown",
   "metadata": {},
   "source": [
    "### Fix Numeric Column Outliers"
   ]
  },
  {
   "cell_type": "code",
   "execution_count": 20,
   "metadata": {},
   "outputs": [
    {
     "data": {
      "text/html": [
       "<div>\n",
       "<style scoped>\n",
       "    .dataframe tbody tr th:only-of-type {\n",
       "        vertical-align: middle;\n",
       "    }\n",
       "\n",
       "    .dataframe tbody tr th {\n",
       "        vertical-align: top;\n",
       "    }\n",
       "\n",
       "    .dataframe thead th {\n",
       "        text-align: right;\n",
       "    }\n",
       "</style>\n",
       "<table border=\"1\" class=\"dataframe\">\n",
       "  <thead>\n",
       "    <tr style=\"text-align: right;\">\n",
       "      <th></th>\n",
       "      <th>count</th>\n",
       "      <th>mean</th>\n",
       "      <th>std</th>\n",
       "      <th>min</th>\n",
       "      <th>25%</th>\n",
       "      <th>50%</th>\n",
       "      <th>75%</th>\n",
       "      <th>max</th>\n",
       "    </tr>\n",
       "  </thead>\n",
       "  <tbody>\n",
       "    <tr>\n",
       "      <th>1st Flr SF</th>\n",
       "      <td>2929</td>\n",
       "      <td>1158</td>\n",
       "      <td>390</td>\n",
       "      <td>334</td>\n",
       "      <td>876</td>\n",
       "      <td>1084</td>\n",
       "      <td>1384</td>\n",
       "      <td>5095</td>\n",
       "    </tr>\n",
       "    <tr>\n",
       "      <th>2nd Flr SF</th>\n",
       "      <td>2929</td>\n",
       "      <td>335</td>\n",
       "      <td>427</td>\n",
       "      <td>0</td>\n",
       "      <td>0</td>\n",
       "      <td>0</td>\n",
       "      <td>703</td>\n",
       "      <td>2065</td>\n",
       "    </tr>\n",
       "    <tr>\n",
       "      <th>3Ssn Porch</th>\n",
       "      <td>2929</td>\n",
       "      <td>2</td>\n",
       "      <td>25</td>\n",
       "      <td>0</td>\n",
       "      <td>0</td>\n",
       "      <td>0</td>\n",
       "      <td>0</td>\n",
       "      <td>508</td>\n",
       "    </tr>\n",
       "    <tr>\n",
       "      <th>Bedroom AbvGr</th>\n",
       "      <td>2929</td>\n",
       "      <td>2</td>\n",
       "      <td>0</td>\n",
       "      <td>0</td>\n",
       "      <td>2</td>\n",
       "      <td>3</td>\n",
       "      <td>3</td>\n",
       "      <td>8</td>\n",
       "    </tr>\n",
       "    <tr>\n",
       "      <th>Bsmt Full Bath</th>\n",
       "      <td>2929</td>\n",
       "      <td>0</td>\n",
       "      <td>0</td>\n",
       "      <td>0</td>\n",
       "      <td>0</td>\n",
       "      <td>0</td>\n",
       "      <td>1</td>\n",
       "      <td>3</td>\n",
       "    </tr>\n",
       "    <tr>\n",
       "      <th>Bsmt Half Bath</th>\n",
       "      <td>2929</td>\n",
       "      <td>0</td>\n",
       "      <td>0</td>\n",
       "      <td>0</td>\n",
       "      <td>0</td>\n",
       "      <td>0</td>\n",
       "      <td>0</td>\n",
       "      <td>2</td>\n",
       "    </tr>\n",
       "    <tr>\n",
       "      <th>Bsmt Unf SF</th>\n",
       "      <td>2929</td>\n",
       "      <td>558</td>\n",
       "      <td>439</td>\n",
       "      <td>0</td>\n",
       "      <td>219</td>\n",
       "      <td>465</td>\n",
       "      <td>801</td>\n",
       "      <td>2336</td>\n",
       "    </tr>\n",
       "    <tr>\n",
       "      <th>BsmtFin SF 1</th>\n",
       "      <td>2929</td>\n",
       "      <td>441</td>\n",
       "      <td>454</td>\n",
       "      <td>0</td>\n",
       "      <td>0</td>\n",
       "      <td>370</td>\n",
       "      <td>734</td>\n",
       "      <td>5644</td>\n",
       "    </tr>\n",
       "    <tr>\n",
       "      <th>BsmtFin SF 2</th>\n",
       "      <td>2929</td>\n",
       "      <td>49</td>\n",
       "      <td>169</td>\n",
       "      <td>0</td>\n",
       "      <td>0</td>\n",
       "      <td>0</td>\n",
       "      <td>0</td>\n",
       "      <td>1526</td>\n",
       "    </tr>\n",
       "    <tr>\n",
       "      <th>Enclosed Porch</th>\n",
       "      <td>2929</td>\n",
       "      <td>23</td>\n",
       "      <td>64</td>\n",
       "      <td>0</td>\n",
       "      <td>0</td>\n",
       "      <td>0</td>\n",
       "      <td>0</td>\n",
       "      <td>1012</td>\n",
       "    </tr>\n",
       "    <tr>\n",
       "      <th>Fireplaces</th>\n",
       "      <td>2929</td>\n",
       "      <td>0</td>\n",
       "      <td>0</td>\n",
       "      <td>0</td>\n",
       "      <td>0</td>\n",
       "      <td>1</td>\n",
       "      <td>1</td>\n",
       "      <td>4</td>\n",
       "    </tr>\n",
       "    <tr>\n",
       "      <th>Full Bath</th>\n",
       "      <td>2929</td>\n",
       "      <td>1</td>\n",
       "      <td>0</td>\n",
       "      <td>0</td>\n",
       "      <td>1</td>\n",
       "      <td>2</td>\n",
       "      <td>2</td>\n",
       "      <td>4</td>\n",
       "    </tr>\n",
       "    <tr>\n",
       "      <th>Garage Area</th>\n",
       "      <td>2929</td>\n",
       "      <td>472</td>\n",
       "      <td>215</td>\n",
       "      <td>0</td>\n",
       "      <td>320</td>\n",
       "      <td>480</td>\n",
       "      <td>576</td>\n",
       "      <td>1488</td>\n",
       "    </tr>\n",
       "    <tr>\n",
       "      <th>Garage Cars</th>\n",
       "      <td>2929</td>\n",
       "      <td>1</td>\n",
       "      <td>0</td>\n",
       "      <td>0</td>\n",
       "      <td>1</td>\n",
       "      <td>2</td>\n",
       "      <td>2</td>\n",
       "      <td>5</td>\n",
       "    </tr>\n",
       "    <tr>\n",
       "      <th>Garage Yr Blt</th>\n",
       "      <td>2929</td>\n",
       "      <td>1870</td>\n",
       "      <td>448</td>\n",
       "      <td>0</td>\n",
       "      <td>1957</td>\n",
       "      <td>1977</td>\n",
       "      <td>2001</td>\n",
       "      <td>2207</td>\n",
       "    </tr>\n",
       "    <tr>\n",
       "      <th>Gr Liv Area</th>\n",
       "      <td>2929</td>\n",
       "      <td>1498</td>\n",
       "      <td>502</td>\n",
       "      <td>334</td>\n",
       "      <td>1126</td>\n",
       "      <td>1442</td>\n",
       "      <td>1742</td>\n",
       "      <td>5642</td>\n",
       "    </tr>\n",
       "    <tr>\n",
       "      <th>Half Bath</th>\n",
       "      <td>2929</td>\n",
       "      <td>0</td>\n",
       "      <td>0</td>\n",
       "      <td>0</td>\n",
       "      <td>0</td>\n",
       "      <td>0</td>\n",
       "      <td>1</td>\n",
       "      <td>2</td>\n",
       "    </tr>\n",
       "    <tr>\n",
       "      <th>Id</th>\n",
       "      <td>2929</td>\n",
       "      <td>1465</td>\n",
       "      <td>846</td>\n",
       "      <td>1</td>\n",
       "      <td>733</td>\n",
       "      <td>1465</td>\n",
       "      <td>2198</td>\n",
       "      <td>2930</td>\n",
       "    </tr>\n",
       "    <tr>\n",
       "      <th>Kitchen AbvGr</th>\n",
       "      <td>2929</td>\n",
       "      <td>1</td>\n",
       "      <td>0</td>\n",
       "      <td>0</td>\n",
       "      <td>1</td>\n",
       "      <td>1</td>\n",
       "      <td>1</td>\n",
       "      <td>3</td>\n",
       "    </tr>\n",
       "    <tr>\n",
       "      <th>Lot Area</th>\n",
       "      <td>2929</td>\n",
       "      <td>10137</td>\n",
       "      <td>7861</td>\n",
       "      <td>1300</td>\n",
       "      <td>7440</td>\n",
       "      <td>9434</td>\n",
       "      <td>11553</td>\n",
       "      <td>215245</td>\n",
       "    </tr>\n",
       "    <tr>\n",
       "      <th>Lot Frontage</th>\n",
       "      <td>2929</td>\n",
       "      <td>57</td>\n",
       "      <td>33</td>\n",
       "      <td>0</td>\n",
       "      <td>43</td>\n",
       "      <td>63</td>\n",
       "      <td>78</td>\n",
       "      <td>313</td>\n",
       "    </tr>\n",
       "    <tr>\n",
       "      <th>Low Qual Fin SF</th>\n",
       "      <td>2929</td>\n",
       "      <td>4</td>\n",
       "      <td>46</td>\n",
       "      <td>0</td>\n",
       "      <td>0</td>\n",
       "      <td>0</td>\n",
       "      <td>0</td>\n",
       "      <td>1064</td>\n",
       "    </tr>\n",
       "    <tr>\n",
       "      <th>Mas Vnr Area</th>\n",
       "      <td>2929</td>\n",
       "      <td>100</td>\n",
       "      <td>178</td>\n",
       "      <td>0</td>\n",
       "      <td>0</td>\n",
       "      <td>0</td>\n",
       "      <td>162</td>\n",
       "      <td>1600</td>\n",
       "    </tr>\n",
       "    <tr>\n",
       "      <th>Misc Val</th>\n",
       "      <td>2929</td>\n",
       "      <td>50</td>\n",
       "      <td>566</td>\n",
       "      <td>0</td>\n",
       "      <td>0</td>\n",
       "      <td>0</td>\n",
       "      <td>0</td>\n",
       "      <td>17000</td>\n",
       "    </tr>\n",
       "    <tr>\n",
       "      <th>Mo Sold</th>\n",
       "      <td>2929</td>\n",
       "      <td>6</td>\n",
       "      <td>2</td>\n",
       "      <td>1</td>\n",
       "      <td>4</td>\n",
       "      <td>6</td>\n",
       "      <td>8</td>\n",
       "      <td>12</td>\n",
       "    </tr>\n",
       "    <tr>\n",
       "      <th>Open Porch SF</th>\n",
       "      <td>2929</td>\n",
       "      <td>47</td>\n",
       "      <td>67</td>\n",
       "      <td>0</td>\n",
       "      <td>0</td>\n",
       "      <td>27</td>\n",
       "      <td>70</td>\n",
       "      <td>742</td>\n",
       "    </tr>\n",
       "    <tr>\n",
       "      <th>Overall Cond</th>\n",
       "      <td>2929</td>\n",
       "      <td>5</td>\n",
       "      <td>1</td>\n",
       "      <td>1</td>\n",
       "      <td>5</td>\n",
       "      <td>5</td>\n",
       "      <td>6</td>\n",
       "      <td>9</td>\n",
       "    </tr>\n",
       "    <tr>\n",
       "      <th>Overall Qual</th>\n",
       "      <td>2929</td>\n",
       "      <td>6</td>\n",
       "      <td>1</td>\n",
       "      <td>1</td>\n",
       "      <td>5</td>\n",
       "      <td>6</td>\n",
       "      <td>7</td>\n",
       "      <td>10</td>\n",
       "    </tr>\n",
       "    <tr>\n",
       "      <th>PID</th>\n",
       "      <td>2929</td>\n",
       "      <td>714398368</td>\n",
       "      <td>188729117</td>\n",
       "      <td>526301100</td>\n",
       "      <td>528477020</td>\n",
       "      <td>535453210</td>\n",
       "      <td>907181090</td>\n",
       "      <td>1007100110</td>\n",
       "    </tr>\n",
       "    <tr>\n",
       "      <th>Pool Area</th>\n",
       "      <td>2929</td>\n",
       "      <td>2</td>\n",
       "      <td>35</td>\n",
       "      <td>0</td>\n",
       "      <td>0</td>\n",
       "      <td>0</td>\n",
       "      <td>0</td>\n",
       "      <td>800</td>\n",
       "    </tr>\n",
       "    <tr>\n",
       "      <th>SalePrice</th>\n",
       "      <td>2929</td>\n",
       "      <td>127072</td>\n",
       "      <td>106362</td>\n",
       "      <td>0</td>\n",
       "      <td>0</td>\n",
       "      <td>134500</td>\n",
       "      <td>186800</td>\n",
       "      <td>611657</td>\n",
       "    </tr>\n",
       "    <tr>\n",
       "      <th>Screen Porch</th>\n",
       "      <td>2929</td>\n",
       "      <td>16</td>\n",
       "      <td>56</td>\n",
       "      <td>0</td>\n",
       "      <td>0</td>\n",
       "      <td>0</td>\n",
       "      <td>0</td>\n",
       "      <td>576</td>\n",
       "    </tr>\n",
       "    <tr>\n",
       "      <th>TotRms AbvGrd</th>\n",
       "      <td>2929</td>\n",
       "      <td>6</td>\n",
       "      <td>1</td>\n",
       "      <td>2</td>\n",
       "      <td>5</td>\n",
       "      <td>6</td>\n",
       "      <td>7</td>\n",
       "      <td>15</td>\n",
       "    </tr>\n",
       "    <tr>\n",
       "      <th>Total Bsmt SF</th>\n",
       "      <td>2929</td>\n",
       "      <td>1050</td>\n",
       "      <td>439</td>\n",
       "      <td>0</td>\n",
       "      <td>793</td>\n",
       "      <td>990</td>\n",
       "      <td>1300</td>\n",
       "      <td>6110</td>\n",
       "    </tr>\n",
       "    <tr>\n",
       "      <th>Wood Deck SF</th>\n",
       "      <td>2929</td>\n",
       "      <td>93</td>\n",
       "      <td>126</td>\n",
       "      <td>0</td>\n",
       "      <td>0</td>\n",
       "      <td>0</td>\n",
       "      <td>168</td>\n",
       "      <td>1424</td>\n",
       "    </tr>\n",
       "    <tr>\n",
       "      <th>Year Built</th>\n",
       "      <td>2929</td>\n",
       "      <td>1971</td>\n",
       "      <td>30</td>\n",
       "      <td>1872</td>\n",
       "      <td>1954</td>\n",
       "      <td>1973</td>\n",
       "      <td>2001</td>\n",
       "      <td>2010</td>\n",
       "    </tr>\n",
       "    <tr>\n",
       "      <th>Year Remod/Add</th>\n",
       "      <td>2929</td>\n",
       "      <td>1984</td>\n",
       "      <td>20</td>\n",
       "      <td>1950</td>\n",
       "      <td>1965</td>\n",
       "      <td>1993</td>\n",
       "      <td>2004</td>\n",
       "      <td>2010</td>\n",
       "    </tr>\n",
       "    <tr>\n",
       "      <th>Yr Sold</th>\n",
       "      <td>2929</td>\n",
       "      <td>2007</td>\n",
       "      <td>1</td>\n",
       "      <td>2006</td>\n",
       "      <td>2007</td>\n",
       "      <td>2008</td>\n",
       "      <td>2009</td>\n",
       "      <td>2010</td>\n",
       "    </tr>\n",
       "  </tbody>\n",
       "</table>\n",
       "</div>"
      ],
      "text/plain": [
       "                 count       mean        std        min        25%        50%  \\\n",
       "1st Flr SF        2929       1158        390        334        876       1084   \n",
       "2nd Flr SF        2929        335        427          0          0          0   \n",
       "3Ssn Porch        2929          2         25          0          0          0   \n",
       "Bedroom AbvGr     2929          2          0          0          2          3   \n",
       "Bsmt Full Bath    2929          0          0          0          0          0   \n",
       "Bsmt Half Bath    2929          0          0          0          0          0   \n",
       "Bsmt Unf SF       2929        558        439          0        219        465   \n",
       "BsmtFin SF 1      2929        441        454          0          0        370   \n",
       "BsmtFin SF 2      2929         49        169          0          0          0   \n",
       "Enclosed Porch    2929         23         64          0          0          0   \n",
       "Fireplaces        2929          0          0          0          0          1   \n",
       "Full Bath         2929          1          0          0          1          2   \n",
       "Garage Area       2929        472        215          0        320        480   \n",
       "Garage Cars       2929          1          0          0          1          2   \n",
       "Garage Yr Blt     2929       1870        448          0       1957       1977   \n",
       "Gr Liv Area       2929       1498        502        334       1126       1442   \n",
       "Half Bath         2929          0          0          0          0          0   \n",
       "Id                2929       1465        846          1        733       1465   \n",
       "Kitchen AbvGr     2929          1          0          0          1          1   \n",
       "Lot Area          2929      10137       7861       1300       7440       9434   \n",
       "Lot Frontage      2929         57         33          0         43         63   \n",
       "Low Qual Fin SF   2929          4         46          0          0          0   \n",
       "Mas Vnr Area      2929        100        178          0          0          0   \n",
       "Misc Val          2929         50        566          0          0          0   \n",
       "Mo Sold           2929          6          2          1          4          6   \n",
       "Open Porch SF     2929         47         67          0          0         27   \n",
       "Overall Cond      2929          5          1          1          5          5   \n",
       "Overall Qual      2929          6          1          1          5          6   \n",
       "PID               2929  714398368  188729117  526301100  528477020  535453210   \n",
       "Pool Area         2929          2         35          0          0          0   \n",
       "SalePrice         2929     127072     106362          0          0     134500   \n",
       "Screen Porch      2929         16         56          0          0          0   \n",
       "TotRms AbvGrd     2929          6          1          2          5          6   \n",
       "Total Bsmt SF     2929       1050        439          0        793        990   \n",
       "Wood Deck SF      2929         93        126          0          0          0   \n",
       "Year Built        2929       1971         30       1872       1954       1973   \n",
       "Year Remod/Add    2929       1984         20       1950       1965       1993   \n",
       "Yr Sold           2929       2007          1       2006       2007       2008   \n",
       "\n",
       "                       75%         max  \n",
       "1st Flr SF            1384        5095  \n",
       "2nd Flr SF             703        2065  \n",
       "3Ssn Porch               0         508  \n",
       "Bedroom AbvGr            3           8  \n",
       "Bsmt Full Bath           1           3  \n",
       "Bsmt Half Bath           0           2  \n",
       "Bsmt Unf SF            801        2336  \n",
       "BsmtFin SF 1           734        5644  \n",
       "BsmtFin SF 2             0        1526  \n",
       "Enclosed Porch           0        1012  \n",
       "Fireplaces               1           4  \n",
       "Full Bath                2           4  \n",
       "Garage Area            576        1488  \n",
       "Garage Cars              2           5  \n",
       "Garage Yr Blt         2001        2207  \n",
       "Gr Liv Area           1742        5642  \n",
       "Half Bath                1           2  \n",
       "Id                    2198        2930  \n",
       "Kitchen AbvGr            1           3  \n",
       "Lot Area             11553      215245  \n",
       "Lot Frontage            78         313  \n",
       "Low Qual Fin SF          0        1064  \n",
       "Mas Vnr Area           162        1600  \n",
       "Misc Val                 0       17000  \n",
       "Mo Sold                  8          12  \n",
       "Open Porch SF           70         742  \n",
       "Overall Cond             6           9  \n",
       "Overall Qual             7          10  \n",
       "PID              907181090  1007100110  \n",
       "Pool Area                0         800  \n",
       "SalePrice           186800      611657  \n",
       "Screen Porch             0         576  \n",
       "TotRms AbvGrd            7          15  \n",
       "Total Bsmt SF         1300        6110  \n",
       "Wood Deck SF           168        1424  \n",
       "Year Built            2001        2010  \n",
       "Year Remod/Add        2004        2010  \n",
       "Yr Sold               2009        2010  "
      ]
     },
     "execution_count": 20,
     "metadata": {},
     "output_type": "execute_result"
    }
   ],
   "source": [
    "# Check to see if there are any impossible summary stats per column\n",
    "# Garage Yr Blt has a max year of 2207\n",
    "# Gr Liv Area has a max value 3x higher than the 75th percentile; needs investigation\n",
    "# The ID and PID columns need to be dropped; useless for regression\n",
    "combined.describe(exclude='object').astype(int).T"
   ]
  },
  {
   "cell_type": "code",
   "execution_count": 21,
   "metadata": {},
   "outputs": [
    {
     "data": {
      "text/html": [
       "<div>\n",
       "<style scoped>\n",
       "    .dataframe tbody tr th:only-of-type {\n",
       "        vertical-align: middle;\n",
       "    }\n",
       "\n",
       "    .dataframe tbody tr th {\n",
       "        vertical-align: top;\n",
       "    }\n",
       "\n",
       "    .dataframe thead th {\n",
       "        text-align: right;\n",
       "    }\n",
       "</style>\n",
       "<table border=\"1\" class=\"dataframe\">\n",
       "  <thead>\n",
       "    <tr style=\"text-align: right;\">\n",
       "      <th></th>\n",
       "      <th>1st Flr SF</th>\n",
       "      <th>2nd Flr SF</th>\n",
       "      <th>3Ssn Porch</th>\n",
       "      <th>Alley</th>\n",
       "      <th>Bedroom AbvGr</th>\n",
       "      <th>Bldg Type</th>\n",
       "      <th>Bsmt Cond</th>\n",
       "      <th>Bsmt Exposure</th>\n",
       "      <th>Bsmt Full Bath</th>\n",
       "      <th>Bsmt Half Bath</th>\n",
       "      <th>...</th>\n",
       "      <th>Screen Porch</th>\n",
       "      <th>Street</th>\n",
       "      <th>TotRms AbvGrd</th>\n",
       "      <th>Total Bsmt SF</th>\n",
       "      <th>Utilities</th>\n",
       "      <th>Wood Deck SF</th>\n",
       "      <th>Year Built</th>\n",
       "      <th>Year Remod/Add</th>\n",
       "      <th>Yr Sold</th>\n",
       "      <th>dataset</th>\n",
       "    </tr>\n",
       "  </thead>\n",
       "  <tbody>\n",
       "    <tr>\n",
       "      <th>1699</th>\n",
       "      <td>1564</td>\n",
       "      <td>0</td>\n",
       "      <td>0</td>\n",
       "      <td>NA</td>\n",
       "      <td>2</td>\n",
       "      <td>1Fam</td>\n",
       "      <td>TA</td>\n",
       "      <td>Av</td>\n",
       "      <td>0.0</td>\n",
       "      <td>0.0</td>\n",
       "      <td>...</td>\n",
       "      <td>0</td>\n",
       "      <td>Pave</td>\n",
       "      <td>6</td>\n",
       "      <td>1546.0</td>\n",
       "      <td>AllPub</td>\n",
       "      <td>132</td>\n",
       "      <td>2006</td>\n",
       "      <td>2007</td>\n",
       "      <td>2007</td>\n",
       "      <td>train</td>\n",
       "    </tr>\n",
       "  </tbody>\n",
       "</table>\n",
       "<p>1 rows × 82 columns</p>\n",
       "</div>"
      ],
      "text/plain": [
       "      1st Flr SF  2nd Flr SF  3Ssn Porch Alley  Bedroom AbvGr Bldg Type  \\\n",
       "1699        1564           0           0    NA              2      1Fam   \n",
       "\n",
       "     Bsmt Cond Bsmt Exposure  Bsmt Full Bath  Bsmt Half Bath  ...  \\\n",
       "1699        TA            Av             0.0             0.0  ...   \n",
       "\n",
       "     Screen Porch  Street  TotRms AbvGrd  Total Bsmt SF Utilities  \\\n",
       "1699            0    Pave              6         1546.0    AllPub   \n",
       "\n",
       "     Wood Deck SF Year Built Year Remod/Add Yr Sold dataset  \n",
       "1699          132       2006           2007    2007   train  \n",
       "\n",
       "[1 rows x 82 columns]"
      ]
     },
     "execution_count": 21,
     "metadata": {},
     "output_type": "execute_result"
    }
   ],
   "source": [
    "# search for any year values outside of dataset range\n",
    "combined[combined[\"Garage Yr Blt\"] > 2010]"
   ]
  },
  {
   "cell_type": "code",
   "execution_count": 22,
   "metadata": {},
   "outputs": [
    {
     "data": {
      "text/plain": [
       "Garage Yr Blt    2007\n",
       "Name: 1699, dtype: object"
      ]
     },
     "execution_count": 22,
     "metadata": {},
     "output_type": "execute_result"
    }
   ],
   "source": [
    "# reassign 2207 year value to 2007; assuming human input error on this one\n",
    "combined.loc[1699,[\"Garage Yr Blt\"]] = 2007\n",
    "combined.loc[1699,[\"Garage Yr Blt\"]]"
   ]
  },
  {
   "cell_type": "code",
   "execution_count": 23,
   "metadata": {},
   "outputs": [
    {
     "data": {
      "text/html": [
       "<div>\n",
       "<style scoped>\n",
       "    .dataframe tbody tr th:only-of-type {\n",
       "        vertical-align: middle;\n",
       "    }\n",
       "\n",
       "    .dataframe tbody tr th {\n",
       "        vertical-align: top;\n",
       "    }\n",
       "\n",
       "    .dataframe thead th {\n",
       "        text-align: right;\n",
       "    }\n",
       "</style>\n",
       "<table border=\"1\" class=\"dataframe\">\n",
       "  <thead>\n",
       "    <tr style=\"text-align: right;\">\n",
       "      <th></th>\n",
       "      <th>Gr Liv Area</th>\n",
       "      <th>SalePrice</th>\n",
       "      <th>dataset</th>\n",
       "    </tr>\n",
       "  </thead>\n",
       "  <tbody>\n",
       "    <tr>\n",
       "      <th>960</th>\n",
       "      <td>5642</td>\n",
       "      <td>160000</td>\n",
       "      <td>train</td>\n",
       "    </tr>\n",
       "    <tr>\n",
       "      <th>1885</th>\n",
       "      <td>5095</td>\n",
       "      <td>183850</td>\n",
       "      <td>train</td>\n",
       "    </tr>\n",
       "    <tr>\n",
       "      <th>170</th>\n",
       "      <td>4476</td>\n",
       "      <td>0</td>\n",
       "      <td>validation</td>\n",
       "    </tr>\n",
       "    <tr>\n",
       "      <th>463</th>\n",
       "      <td>4316</td>\n",
       "      <td>0</td>\n",
       "      <td>validation</td>\n",
       "    </tr>\n",
       "    <tr>\n",
       "      <th>616</th>\n",
       "      <td>3820</td>\n",
       "      <td>284700</td>\n",
       "      <td>train</td>\n",
       "    </tr>\n",
       "    <tr>\n",
       "      <th>1897</th>\n",
       "      <td>3672</td>\n",
       "      <td>415000</td>\n",
       "      <td>train</td>\n",
       "    </tr>\n",
       "    <tr>\n",
       "      <th>115</th>\n",
       "      <td>3627</td>\n",
       "      <td>0</td>\n",
       "      <td>validation</td>\n",
       "    </tr>\n",
       "    <tr>\n",
       "      <th>1035</th>\n",
       "      <td>3608</td>\n",
       "      <td>475000</td>\n",
       "      <td>train</td>\n",
       "    </tr>\n",
       "    <tr>\n",
       "      <th>1692</th>\n",
       "      <td>3500</td>\n",
       "      <td>584500</td>\n",
       "      <td>train</td>\n",
       "    </tr>\n",
       "    <tr>\n",
       "      <th>1939</th>\n",
       "      <td>3493</td>\n",
       "      <td>295000</td>\n",
       "      <td>train</td>\n",
       "    </tr>\n",
       "  </tbody>\n",
       "</table>\n",
       "</div>"
      ],
      "text/plain": [
       "      Gr Liv Area  SalePrice     dataset\n",
       "960          5642     160000       train\n",
       "1885         5095     183850       train\n",
       "170          4476          0  validation\n",
       "463          4316          0  validation\n",
       "616          3820     284700       train\n",
       "1897         3672     415000       train\n",
       "115          3627          0  validation\n",
       "1035         3608     475000       train\n",
       "1692         3500     584500       train\n",
       "1939         3493     295000       train"
      ]
     },
     "execution_count": 23,
     "metadata": {},
     "output_type": "execute_result"
    }
   ],
   "source": [
    "# There are two records in the train set with >5000 total sq ft and below avg sale price; needs to be dropped\n",
    "combined.loc[:, [\"Gr Liv Area\",\"SalePrice\", \"dataset\"]].sort_values(\"Gr Liv Area\", ascending=False).head(10)"
   ]
  },
  {
   "cell_type": "code",
   "execution_count": 24,
   "metadata": {},
   "outputs": [],
   "source": [
    "combined.drop(index=[960,1885],inplace=True)"
   ]
  },
  {
   "cell_type": "markdown",
   "metadata": {},
   "source": [
    "### Ordinal Object Column Conversion To Numeric"
   ]
  },
  {
   "cell_type": "code",
   "execution_count": 25,
   "metadata": {},
   "outputs": [],
   "source": [
    "# List of ordinal columns that share the 5 point scale\n",
    "five_point_cols = [\"Exter Qual\",\n",
    "                   \"Exter Cond\",\n",
    "                   \"Bsmt Qual\",\n",
    "                   \"Bsmt Cond\",\n",
    "                   \"Heating QC\",\n",
    "                   \"Kitchen Qual\",\n",
    "                   \"Fireplace Qu\",\n",
    "                   \"Garage Qual\",\n",
    "                   \"Garage Cond\",\n",
    "                   \"Pool QC\"]"
   ]
  },
  {
   "cell_type": "code",
   "execution_count": 26,
   "metadata": {},
   "outputs": [
    {
     "data": {
      "text/html": [
       "<div>\n",
       "<style scoped>\n",
       "    .dataframe tbody tr th:only-of-type {\n",
       "        vertical-align: middle;\n",
       "    }\n",
       "\n",
       "    .dataframe tbody tr th {\n",
       "        vertical-align: top;\n",
       "    }\n",
       "\n",
       "    .dataframe thead th {\n",
       "        text-align: right;\n",
       "    }\n",
       "</style>\n",
       "<table border=\"1\" class=\"dataframe\">\n",
       "  <thead>\n",
       "    <tr style=\"text-align: right;\">\n",
       "      <th></th>\n",
       "      <th>Exter Qual</th>\n",
       "      <th>Exter Cond</th>\n",
       "      <th>Bsmt Qual</th>\n",
       "      <th>Bsmt Cond</th>\n",
       "      <th>Heating QC</th>\n",
       "      <th>Kitchen Qual</th>\n",
       "      <th>Fireplace Qu</th>\n",
       "      <th>Garage Qual</th>\n",
       "      <th>Garage Cond</th>\n",
       "      <th>Pool QC</th>\n",
       "    </tr>\n",
       "  </thead>\n",
       "  <tbody>\n",
       "    <tr>\n",
       "      <th>0</th>\n",
       "      <td>Gd</td>\n",
       "      <td>TA</td>\n",
       "      <td>TA</td>\n",
       "      <td>TA</td>\n",
       "      <td>Ex</td>\n",
       "      <td>Gd</td>\n",
       "      <td>NA</td>\n",
       "      <td>TA</td>\n",
       "      <td>TA</td>\n",
       "      <td>NA</td>\n",
       "    </tr>\n",
       "    <tr>\n",
       "      <th>1</th>\n",
       "      <td>Gd</td>\n",
       "      <td>TA</td>\n",
       "      <td>Gd</td>\n",
       "      <td>TA</td>\n",
       "      <td>Ex</td>\n",
       "      <td>Gd</td>\n",
       "      <td>TA</td>\n",
       "      <td>TA</td>\n",
       "      <td>TA</td>\n",
       "      <td>NA</td>\n",
       "    </tr>\n",
       "  </tbody>\n",
       "</table>\n",
       "</div>"
      ],
      "text/plain": [
       "  Exter Qual Exter Cond Bsmt Qual Bsmt Cond Heating QC Kitchen Qual  \\\n",
       "0         Gd         TA        TA        TA         Ex           Gd   \n",
       "1         Gd         TA        Gd        TA         Ex           Gd   \n",
       "\n",
       "  Fireplace Qu Garage Qual Garage Cond Pool QC  \n",
       "0           NA          TA          TA      NA  \n",
       "1           TA          TA          TA      NA  "
      ]
     },
     "execution_count": 26,
     "metadata": {},
     "output_type": "execute_result"
    }
   ],
   "source": [
    "combined.loc[:,five_point_cols].head(2)"
   ]
  },
  {
   "cell_type": "code",
   "execution_count": 27,
   "metadata": {},
   "outputs": [],
   "source": [
    "# loop that converts the ordinal text ratings into numerical ratings\n",
    "for column in five_point_cols:\n",
    "    combined[column] = combined[column].replace({\"\":0,\n",
    "                                            \"Ex\":5,\n",
    "                                            \"Gd\":4,\n",
    "                                            \"TA\":3,\n",
    "                                            \"Fa\":2,\n",
    "                                            \"Po\":1,\n",
    "                                            \"NA\":0,\n",
    "                                            })"
   ]
  },
  {
   "cell_type": "code",
   "execution_count": 28,
   "metadata": {},
   "outputs": [
    {
     "name": "stdout",
     "output_type": "stream",
     "text": [
      "<class 'pandas.core.frame.DataFrame'>\n",
      "Int64Index: 2927 entries, 0 to 877\n",
      "Data columns (total 10 columns):\n",
      "Exter Qual      2927 non-null object\n",
      "Exter Cond      2927 non-null object\n",
      "Bsmt Qual       2927 non-null int64\n",
      "Bsmt Cond       2927 non-null int64\n",
      "Heating QC      2927 non-null object\n",
      "Kitchen Qual    2927 non-null object\n",
      "Fireplace Qu    2927 non-null int64\n",
      "Garage Qual     2927 non-null int64\n",
      "Garage Cond     2927 non-null int64\n",
      "Pool QC         2927 non-null int64\n",
      "dtypes: int64(6), object(4)\n",
      "memory usage: 251.5+ KB\n"
     ]
    }
   ],
   "source": [
    "# four of the successfully replaced columns are still showing as\n",
    "combined.loc[:,five_point_cols].info()"
   ]
  },
  {
   "cell_type": "code",
   "execution_count": 29,
   "metadata": {},
   "outputs": [
    {
     "name": "stdout",
     "output_type": "stream",
     "text": [
      "[4 3 5 2]\n",
      "[3 4 2 5 1]\n",
      "[5 3 4 2 1]\n",
      "[4 3 2 5 1]\n"
     ]
    }
   ],
   "source": [
    "# the unique values of all four columns are number strings\n",
    "print(combined[\"Exter Qual\"].unique())\n",
    "print(combined[\"Exter Cond\"].unique())\n",
    "print(combined[\"Heating QC\"].unique())\n",
    "print(combined[\"Kitchen Qual\"].unique())"
   ]
  },
  {
   "cell_type": "code",
   "execution_count": 30,
   "metadata": {},
   "outputs": [],
   "source": [
    "# these can easily be reassigned\n",
    "combined[\"Exter Qual\"] = combined[\"Exter Qual\"].astype(\"int64\")\n",
    "combined[\"Exter Cond\"] = combined[\"Exter Cond\"].astype(\"int64\")\n",
    "combined[\"Heating QC\"] = combined[\"Heating QC\"].astype(\"int64\")\n",
    "combined[\"Kitchen Qual\"] = combined[\"Kitchen Qual\"].astype(\"int64\")"
   ]
  },
  {
   "cell_type": "code",
   "execution_count": 31,
   "metadata": {},
   "outputs": [
    {
     "name": "stdout",
     "output_type": "stream",
     "text": [
      "<class 'pandas.core.frame.DataFrame'>\n",
      "Int64Index: 2927 entries, 0 to 877\n",
      "Data columns (total 10 columns):\n",
      "Exter Qual      2927 non-null int64\n",
      "Exter Cond      2927 non-null int64\n",
      "Bsmt Qual       2927 non-null int64\n",
      "Bsmt Cond       2927 non-null int64\n",
      "Heating QC      2927 non-null int64\n",
      "Kitchen Qual    2927 non-null int64\n",
      "Fireplace Qu    2927 non-null int64\n",
      "Garage Qual     2927 non-null int64\n",
      "Garage Cond     2927 non-null int64\n",
      "Pool QC         2927 non-null int64\n",
      "dtypes: int64(10)\n",
      "memory usage: 251.5 KB\n"
     ]
    }
   ],
   "source": [
    "# all of the reassigned ordinal columns are now showing as int64 numeric type\n",
    "combined.loc[:,five_point_cols].info()"
   ]
  },
  {
   "cell_type": "markdown",
   "metadata": {},
   "source": [
    "## Feature Engineering"
   ]
  },
  {
   "cell_type": "markdown",
   "metadata": {},
   "source": [
    "### Checking SalePrice for Normality"
   ]
  },
  {
   "cell_type": "code",
   "execution_count": 32,
   "metadata": {},
   "outputs": [],
   "source": [
    "# Updating train dataset with changes made to combined dataset\n",
    "train = combined[combined[\"dataset\"] == \"train\"]\n",
    "y = train[\"SalePrice\"]"
   ]
  },
  {
   "cell_type": "code",
   "execution_count": 33,
   "metadata": {},
   "outputs": [
    {
     "data": {
      "image/png": "[encoded data removed]",
      "text/plain": [
       "<Figure size 432x288 with 1 Axes>"
      ]
     },
     "metadata": {
      "needs_background": "light"
     },
     "output_type": "display_data"
    }
   ],
   "source": [
    "price_mean_str = str(round(y.mean(),0))\n",
    "\n",
    "plt.hist(y); # SalePrice has a very right-sided fat tail\n",
    "plt.title(\"SalePrice - Train Data Only, Mean: $\"+price_mean_str);\n",
    "plt.axvline(y.mean(), color='red', linewidth=2)\n",
    "plt.xlabel(\"SalePrice ($)\")\n",
    "plt.ylabel(\"Homes Sold\");"
   ]
  },
  {
   "cell_type": "code",
   "execution_count": 34,
   "metadata": {},
   "outputs": [
    {
     "data": {
      "image/png": "[encoded data removed]",
      "text/plain": [
       "<Figure size 432x288 with 1 Axes>"
      ]
     },
     "metadata": {
      "needs_background": "light"
     },
     "output_type": "display_data"
    }
   ],
   "source": [
    "plt.hist(np.log(y)); # SalePrice has a very right-sided fat tail\n",
    "plt.title(\"log(SalePrice) - Train Data Only\");\n",
    "plt.axvline(np.log(y).mean(), color='red', linewidth=2)\n",
    "plt.xlabel(\"SalePrice ($)\")\n",
    "plt.ylabel(\"Homes Sold\");"
   ]
  },
  {
   "cell_type": "code",
   "execution_count": 35,
   "metadata": {},
   "outputs": [],
   "source": [
    "# the critical value for kurtosis under normality is 3\n",
    "# the function calculates kurtosis, subtracts 3, and returns excess kurtosis\n",
    "# variables with an excess kurtosis score>0 are considered non-normal and requiring of log transofrmation\n",
    "def excess_kurtosis(series):\n",
    "    kurtosis = sum(((series - series.mean())**4) / len(series)) / series.std() - 3\n",
    "    return round(kurtosis,4)"
   ]
  },
  {
   "cell_type": "code",
   "execution_count": 36,
   "metadata": {},
   "outputs": [
    {
     "name": "stdout",
     "output_type": "stream",
     "text": [
      "The excess kurtosis score for SalePrice is 3267972974281466.5\n",
      "The excess kurtosis score for log(SalePrice) is -2.6607\n"
     ]
    }
   ],
   "source": [
    "# check SalePrice and log(SalePrice) for kurtosis under normality assumptions\n",
    "# SalePrice has very high kurtosis but log(SalePrice) is within normality limits\n",
    "print(f\"The excess kurtosis score for SalePrice is {excess_kurtosis(y)}\")\n",
    "print(f\"The excess kurtosis score for log(SalePrice) is {excess_kurtosis(np.log(y))}\")"
   ]
  },
  {
   "cell_type": "code",
   "execution_count": 37,
   "metadata": {},
   "outputs": [],
   "source": [
    "# create a log(SalePrice) column at the end of the combined dataset\n",
    "combined[\"SalePrice_log\"] = np.log(combined[\"SalePrice\"])"
   ]
  },
  {
   "cell_type": "markdown",
   "metadata": {},
   "source": [
    "### Imputed Columns"
   ]
  },
  {
   "cell_type": "code",
   "execution_count": 38,
   "metadata": {},
   "outputs": [
    {
     "name": "stdout",
     "output_type": "stream",
     "text": [
      "2007.7909121967884\n",
      "1971.3190980526135\n",
      "36.47181414417492\n"
     ]
    }
   ],
   "source": [
    "# years old at sale\n",
    "# Current data has year of sale and year built\n",
    "combined[\"Years Old At Sale\"] = combined[\"Yr Sold\"] - combined[\"Year Built\"]\n",
    "print(combined[\"Yr Sold\"].mean())\n",
    "print(combined[\"Year Built\"].mean())\n",
    "print(combined[\"Years Old At Sale\"].mean())"
   ]
  },
  {
   "cell_type": "code",
   "execution_count": 127,
   "metadata": {},
   "outputs": [
    {
     "data": {
      "image/png": "[encoded data removed]",
      "text/plain": [
       "<Figure size 504x360 with 1 Axes>"
      ]
     },
     "metadata": {
      "needs_background": "light"
     },
     "output_type": "display_data"
    }
   ],
   "source": [
    "plt.figure(figsize=(7,5))\n",
    "plt.scatter(x=train[\"Years Old At Sale\"], y=train[\"SalePrice_log\"]);\n",
    "\n",
    "plt.xlabel(\"Years Old At Sale\", fontsize=18)\n",
    "plt.xticks(fontsize=12)\n",
    "plt.ylabel(\"log(SalePrice)\", fontsize=18);\n",
    "plt.yticks(fontsize=12)\n",
    "plt.title(\"Boxplot - Years Old At Sale vs log(SalePrice)\", fontsize=18);\n",
    "\n",
    "# there is a fairly linear inverse relationship between age of home and sale price\n",
    "# it is unsurprising that older homes sell for less"
   ]
  },
  {
   "cell_type": "code",
   "execution_count": 39,
   "metadata": {},
   "outputs": [
    {
     "name": "stdout",
     "output_type": "stream",
     "text": [
      "1.995900239152716\n",
      "0.2198496754355996\n",
      "2.2157499145883155\n"
     ]
    }
   ],
   "source": [
    "# Create column for total bathrooms\n",
    "# current data only has columns for full and half baths separately\n",
    "combined[\"Total Bathrooms\"] = combined[\"Full Bath\"] + combined[\"Bsmt Full Bath\"] + combined[\"Half Bath\"] * 0.5 + combined[\"Bsmt Half Bath\"] * 0.5\n",
    "print(combined[\"Full Bath\"].mean() + combined[\"Bsmt Full Bath\"].mean())\n",
    "print(combined[\"Half Bath\"].mean() * 0.5 + combined[\"Bsmt Half Bath\"].mean() * 0.5)\n",
    "print(combined[\"Total Bathrooms\"].mean())"
   ]
  },
  {
   "cell_type": "code",
   "execution_count": 119,
   "metadata": {},
   "outputs": [
    {
     "data": {
      "image/png": "[encoded data removed]",
      "text/plain": [
       "<Figure size 504x360 with 1 Axes>"
      ]
     },
     "metadata": {
      "needs_background": "light"
     },
     "output_type": "display_data"
    }
   ],
   "source": [
    "plt.figure(figsize=(7,5))\n",
    "sns.boxplot(x=train[\"Total Bathrooms\"],y=train[\"SalePrice_log\"]);\n",
    "\n",
    "plt.xlabel(\"Total Bathrooms\", fontsize=18)\n",
    "plt.xticks(fontsize=12)\n",
    "plt.ylabel(\"log(SalePrice)\", fontsize=18);\n",
    "plt.yticks(fontsize=12)\n",
    "plt.title(\"Boxplot - Total Bathrooms vs log(SalePrice)\", fontsize=18);\n",
    "\n",
    "# there is a fairly linear positive relationship between total bathrooms and sale price\n",
    "# it is unsurprising that homes with more bathrooms sell for more"
   ]
  },
  {
   "cell_type": "markdown",
   "metadata": {},
   "source": [
    "### Continuous Variable Selection"
   ]
  },
  {
   "cell_type": "code",
   "execution_count": 40,
   "metadata": {},
   "outputs": [],
   "source": [
    "# Updating train dataset with changes made to combined dataset\n",
    "train = combined[combined[\"dataset\"] == \"train\"]\n",
    "y = train[\"SalePrice\"]\n",
    "y_log = train[\"SalePrice_log\"]"
   ]
  },
  {
   "cell_type": "code",
   "execution_count": 41,
   "metadata": {
    "scrolled": true
   },
   "outputs": [
    {
     "data": {
      "image/png": "[encoded data removed]",
      "text/plain": [
       "<Figure size 216x648 with 2 Axes>"
      ]
     },
     "metadata": {
      "needs_background": "light"
     },
     "output_type": "display_data"
    }
   ],
   "source": [
    "# Heatmap to show top 20 independent variables that are most correlated with log(SalePrice)\n",
    "plt.figure(figsize=(3,9))\n",
    "sns.heatmap(train.corr().sort_values(by=\"SalePrice_log\", ascending=False).head(22)[[\"SalePrice_log\"]],\n",
    "            cmap=\"coolwarm\",\n",
    "            annot=True);"
   ]
  },
  {
   "cell_type": "code",
   "execution_count": 42,
   "metadata": {
    "scrolled": true
   },
   "outputs": [
    {
     "data": {
      "text/plain": [
       "Index(['SalePrice_log', 'SalePrice', 'Overall Qual', 'Gr Liv Area',\n",
       "       'Exter Qual', 'Kitchen Qual', 'Garage Cars', 'Total Bathrooms',\n",
       "       'Total Bsmt SF', 'Garage Area', 'Bsmt Qual', '1st Flr SF', 'Year Built',\n",
       "       'Year Remod/Add', 'Full Bath', 'Fireplace Qu', 'Heating QC',\n",
       "       'TotRms AbvGrd', 'Fireplaces', 'Mas Vnr Area', 'BsmtFin SF 1',\n",
       "       'Garage Qual'],\n",
       "      dtype='object')"
      ]
     },
     "execution_count": 42,
     "metadata": {},
     "output_type": "execute_result"
    }
   ],
   "source": [
    "train.corr().sort_values(by=\"SalePrice_log\", ascending=False).head(22).index"
   ]
  },
  {
   "cell_type": "code",
   "execution_count": 43,
   "metadata": {},
   "outputs": [],
   "source": [
    "# This is a shortlist of the 5 independent variables most highly correlated with log(SalePrice)\n",
    "top_5_X = ['SalePrice_log', 'Overall Qual', 'Gr Liv Area', 'Exter Qual', 'Kitchen Qual',\n",
    "            'Garage Cars']"
   ]
  },
  {
   "cell_type": "code",
   "execution_count": 108,
   "metadata": {},
   "outputs": [
    {
     "data": {
      "image/png": "[encoded data removed]",
      "text/plain": [
       "<Figure size 1080x720 with 2 Axes>"
      ]
     },
     "metadata": {
      "needs_background": "light"
     },
     "output_type": "display_data"
    }
   ],
   "source": [
    "plt.figure(figsize=(15,10))\n",
    "\n",
    "sns.heatmap(train.loc[:, top_5_X].corr().sort_values(by=\"SalePrice_log\",\n",
    "            ascending=False),\n",
    "            cmap='coolwarm',\n",
    "            annot=True,\n",
    "            annot_kws={\"size\": 18},\n",
    "            linewidths=.5);\n",
    "\n",
    "plt.xticks(fontsize=12)\n",
    "plt.yticks(fontsize=12, verticalalignment='center')\n",
    "plt.title(\"Correlation Matrix - Top 5 Features vs. log(SalePrice)\", fontsize=18);\n",
    "\n",
    "# solution for fixing box sizes found at: https://github.com/mwaskom/seaborn/issues/1773\n",
    "b, t = plt.ylim() # discover the values for bottom and top\n",
    "b += 0.5 # Add 0.5 to the bottom\n",
    "t -= 0.5 # Subtract 0.5 from the top\n",
    "plt.ylim(b, t) # update the ylim(bottom, top) values\n",
    "plt.show()"
   ]
  },
  {
   "cell_type": "markdown",
   "metadata": {},
   "source": [
    "### Add Dummy Variables"
   ]
  },
  {
   "cell_type": "code",
   "execution_count": 45,
   "metadata": {},
   "outputs": [],
   "source": [
    "# Create dummy variables for neighborhood name\n",
    "neighborhood_dummies = pd.get_dummies(combined[\"Neighborhood\"], drop_first=True)\n",
    "# insert parent column name into title of dummy columns to avoid confusion\n",
    "neighborhood_dummies.columns = \"Neighborhood-\"+ neighborhood_dummies.columns\n",
    "\n",
    "# concatenate those dummmies to the main dataframe\n",
    "combined = pd.concat([combined, neighborhood_dummies], axis=1)"
   ]
  },
  {
   "cell_type": "code",
   "execution_count": 46,
   "metadata": {},
   "outputs": [
    {
     "data": {
      "text/plain": [
       "Index(['Yr Sold', 'dataset', 'SalePrice_log', 'Years Old At Sale',\n",
       "       'Total Bathrooms', 'Neighborhood-Blueste', 'Neighborhood-BrDale',\n",
       "       'Neighborhood-BrkSide', 'Neighborhood-ClearCr', 'Neighborhood-CollgCr',\n",
       "       'Neighborhood-Crawfor', 'Neighborhood-Edwards', 'Neighborhood-Gilbert',\n",
       "       'Neighborhood-Greens', 'Neighborhood-GrnHill', 'Neighborhood-IDOTRR',\n",
       "       'Neighborhood-Landmrk', 'Neighborhood-MeadowV', 'Neighborhood-Mitchel',\n",
       "       'Neighborhood-NAmes', 'Neighborhood-NPkVill', 'Neighborhood-NWAmes',\n",
       "       'Neighborhood-NoRidge', 'Neighborhood-NridgHt', 'Neighborhood-OldTown',\n",
       "       'Neighborhood-SWISU', 'Neighborhood-Sawyer', 'Neighborhood-SawyerW',\n",
       "       'Neighborhood-Somerst', 'Neighborhood-StoneBr', 'Neighborhood-Timber',\n",
       "       'Neighborhood-Veenker'],\n",
       "      dtype='object')"
      ]
     },
     "execution_count": 46,
     "metadata": {},
     "output_type": "execute_result"
    }
   ],
   "source": [
    "# checking the end of the column name list to make sure concatenation happened correctly\n",
    "combined.columns[80:]"
   ]
  },
  {
   "cell_type": "code",
   "execution_count": 47,
   "metadata": {},
   "outputs": [],
   "source": [
    "# list of the remaining text columns that need to be dummied\n",
    "cols_to_dummy = ['Alley', 'Bldg Type', 'Bsmt Exposure', 'BsmtFin Type 1',\n",
    "                 'BsmtFin Type 2', 'Central Air', 'Condition 1', 'Condition 2',\n",
    "                 'Electrical', 'Exterior 1st', 'Exterior 2nd', 'Fence', 'Foundation',\n",
    "                 'Functional', 'Garage Finish', 'Garage Type', 'Heating', 'House Style',\n",
    "                 'Land Contour', 'Land Slope', 'Lot Config', 'Lot Shape', 'MS SubClass',\n",
    "                 'MS Zoning', 'Mas Vnr Type', 'Misc Feature', 'Paved Drive', 'Roof Matl',\n",
    "                 'Roof Style', 'Sale Type', 'Street', 'Utilities']"
   ]
  },
  {
   "cell_type": "code",
   "execution_count": 48,
   "metadata": {},
   "outputs": [],
   "source": [
    "for column in cols_to_dummy:\n",
    "        # Create dummy variables for neighborhood name\n",
    "        dummy_cols = pd.get_dummies(combined[column], drop_first=True)\n",
    "        # insert parent column name into title of dummy columns to avoid confusion\n",
    "        dummy_cols.columns = column +\"-\"+ dummy_cols.columns\n",
    "        # concatenate those dummmies to the main dataframe\n",
    "        combined = pd.concat([combined, dummy_cols], axis=1)"
   ]
  },
  {
   "cell_type": "code",
   "execution_count": 49,
   "metadata": {},
   "outputs": [
    {
     "data": {
      "text/plain": [
       "(2927, 290)"
      ]
     },
     "execution_count": 49,
     "metadata": {},
     "output_type": "execute_result"
    }
   ],
   "source": [
    "combined.shape"
   ]
  },
  {
   "cell_type": "markdown",
   "metadata": {},
   "source": [
    "## Model Preparation: Baseline"
   ]
  },
  {
   "cell_type": "code",
   "execution_count": 50,
   "metadata": {},
   "outputs": [],
   "source": [
    "lr = LinearRegression()"
   ]
  },
  {
   "cell_type": "code",
   "execution_count": 51,
   "metadata": {},
   "outputs": [],
   "source": [
    "# Updating train dataset with changes made to combined dataset\n",
    "train = combined[combined[\"dataset\"] == \"train\"]\n",
    "\n",
    "target = \"SalePrice_log\"\n",
    "\n",
    "y = train[target]"
   ]
  },
  {
   "cell_type": "code",
   "execution_count": 52,
   "metadata": {},
   "outputs": [],
   "source": [
    "# RMSE function\n",
    "def get_RMSE(y_true, y_pred):\n",
    "    sq_error = (y_true - y_pred)**2\n",
    "    mean_sq_error = sq_error.sum() / len(y_true)\n",
    "    root_mean_sq_error = mean_sq_error **0.5\n",
    "    return round(root_mean_sq_error,4)"
   ]
  },
  {
   "cell_type": "code",
   "execution_count": 53,
   "metadata": {},
   "outputs": [
    {
     "data": {
      "text/plain": [
       "80629.6145"
      ]
     },
     "execution_count": 53,
     "metadata": {},
     "output_type": "execute_result"
    }
   ],
   "source": [
    "# store log predictions from model 1 against all training/test data\n",
    "preds_baseline = y.mean()\n",
    "# store $ residuals from model 1\n",
    "resids_baseline = np.exp(y) - np.exp(preds_baseline)\n",
    "\n",
    "# this is the baseline RMSE we will optimize against\n",
    "# when predicting SalePrice with just the sample avg, we get a root mean sq error of $80,590\n",
    "get_RMSE(np.exp(y), np.exp(y.mean()))"
   ]
  },
  {
   "cell_type": "markdown",
   "metadata": {},
   "source": [
    "## Model 1: MLR w/ Continuous Variables Only"
   ]
  },
  {
   "cell_type": "code",
   "execution_count": 54,
   "metadata": {},
   "outputs": [],
   "source": [
    "# Updating train dataset with changes made to combined dataset\n",
    "train = combined[combined[\"dataset\"] == \"train\"]\n",
    "\n",
    "target = \"SalePrice_log\"\n",
    "mlr_variables = ['Overall Qual', 'Exter Qual','Gr Liv Area', 'Kitchen Qual', 'Garage Cars',\n",
    "           'Total Bathrooms', 'Garage Area', 'Bsmt Qual', 'Year Built', 'Total Bsmt SF']\n",
    "\n",
    "X = train[mlr_variables]\n",
    "y = train[target]\n",
    "\n",
    "X_train, X_test, y_train, y_test = train_test_split(X, y, random_state = RANDOM_STATE)"
   ]
  },
  {
   "cell_type": "code",
   "execution_count": 55,
   "metadata": {},
   "outputs": [
    {
     "data": {
      "text/plain": [
       "0.8504970901843075"
      ]
     },
     "execution_count": 55,
     "metadata": {},
     "output_type": "execute_result"
    }
   ],
   "source": [
    "# calculating and storing betas\n",
    "lr.fit(X_train, y_train); \n",
    "\n",
    "# R2 of training set\n",
    "# 80% of variance in the training set is explained by model 1 \n",
    "cross_val_score(lr, X_train, y_train, cv=5).mean()"
   ]
  },
  {
   "cell_type": "code",
   "execution_count": 56,
   "metadata": {},
   "outputs": [
    {
     "data": {
      "text/plain": [
       "0.8560203006922532"
      ]
     },
     "execution_count": 56,
     "metadata": {},
     "output_type": "execute_result"
    }
   ],
   "source": [
    "# R2 of test set\n",
    "# 85% of variance in the training set is explained by model 1\n",
    "# this implies that we have positive variance from a decently fit model\n",
    "lr.score(X_test, y_test) # test score"
   ]
  },
  {
   "cell_type": "code",
   "execution_count": 57,
   "metadata": {},
   "outputs": [
    {
     "data": {
      "text/plain": [
       "25854.4292"
      ]
     },
     "execution_count": 57,
     "metadata": {},
     "output_type": "execute_result"
    }
   ],
   "source": [
    "# store $ predictions from model 1 against all training/test data\n",
    "preds_m1 = np.exp(lr.predict(X))\n",
    "# store $ residuals from model 1\n",
    "resids_m1 = np.exp(y) - preds_m1\n",
    "\n",
    "# when predicting SalePrice with model 1, we get a root mean sq error of $25,854\n",
    "# less than one-third of the error compared to a naive model ($80,590)\n",
    "get_RMSE(np.exp(y), preds_m1)"
   ]
  },
  {
   "cell_type": "code",
   "execution_count": 94,
   "metadata": {},
   "outputs": [
    {
     "data": {
      "image/png": "[encoded data removed]",
      "text/plain": [
       "<Figure size 504x360 with 1 Axes>"
      ]
     },
     "metadata": {
      "needs_background": "light"
     },
     "output_type": "display_data"
    }
   ],
   "source": [
    "plt.figure(figsize=(7,5))\n",
    "plt.scatter(preds_m1,resids_m1)\n",
    "plt.xlabel(\"Predicted SalePrice($)\", fontsize=18)\n",
    "plt.xticks(fontsize=12)\n",
    "plt.ylabel(\"Residuals($)\", fontsize=18);\n",
    "plt.yticks(fontsize=12)\n",
    "plt.hlines(0, xmin=np.exp(y).min(),xmax=np.exp(y).max(), colors='red');\n",
    "plt.title(\"Model 1 Residuals By Predicted SalePrice\", fontsize=18);"
   ]
  },
  {
   "cell_type": "code",
   "execution_count": 59,
   "metadata": {},
   "outputs": [
    {
     "data": {
      "text/html": [
       "<table class=\"simpletable\">\n",
       "<caption>OLS Regression Results</caption>\n",
       "<tr>\n",
       "  <th>Dep. Variable:</th>      <td>SalePrice_log</td>  <th>  R-squared:         </th> <td>   0.854</td>\n",
       "</tr>\n",
       "<tr>\n",
       "  <th>Model:</th>                   <td>OLS</td>       <th>  Adj. R-squared:    </th> <td>   0.853</td>\n",
       "</tr>\n",
       "<tr>\n",
       "  <th>Method:</th>             <td>Least Squares</td>  <th>  F-statistic:       </th> <td>   1194.</td>\n",
       "</tr>\n",
       "<tr>\n",
       "  <th>Date:</th>             <td>Tue, 28 Jan 2020</td> <th>  Prob (F-statistic):</th>  <td>  0.00</td> \n",
       "</tr>\n",
       "<tr>\n",
       "  <th>Time:</th>                 <td>17:09:51</td>     <th>  Log-Likelihood:    </th> <td>  884.89</td>\n",
       "</tr>\n",
       "<tr>\n",
       "  <th>No. Observations:</th>      <td>  2049</td>      <th>  AIC:               </th> <td>  -1748.</td>\n",
       "</tr>\n",
       "<tr>\n",
       "  <th>Df Residuals:</th>          <td>  2038</td>      <th>  BIC:               </th> <td>  -1686.</td>\n",
       "</tr>\n",
       "<tr>\n",
       "  <th>Df Model:</th>              <td>    10</td>      <th>                     </th>     <td> </td>   \n",
       "</tr>\n",
       "<tr>\n",
       "  <th>Covariance Type:</th>      <td>nonrobust</td>    <th>                     </th>     <td> </td>   \n",
       "</tr>\n",
       "</table>\n",
       "<table class=\"simpletable\">\n",
       "<tr>\n",
       "         <td></td>            <th>coef</th>     <th>std err</th>      <th>t</th>      <th>P>|t|</th>  <th>[0.025</th>    <th>0.975]</th>  \n",
       "</tr>\n",
       "<tr>\n",
       "  <th>Overall Qual</th>    <td>    0.0842</td> <td>    0.005</td> <td>   18.436</td> <td> 0.000</td> <td>    0.075</td> <td>    0.093</td>\n",
       "</tr>\n",
       "<tr>\n",
       "  <th>Exter Qual</th>      <td>    0.0102</td> <td>    0.010</td> <td>    0.994</td> <td> 0.321</td> <td>   -0.010</td> <td>    0.030</td>\n",
       "</tr>\n",
       "<tr>\n",
       "  <th>Gr Liv Area</th>     <td>    0.0002</td> <td> 1.04e-05</td> <td>   22.537</td> <td> 0.000</td> <td>    0.000</td> <td>    0.000</td>\n",
       "</tr>\n",
       "<tr>\n",
       "  <th>Kitchen Qual</th>    <td>    0.0613</td> <td>    0.008</td> <td>    7.489</td> <td> 0.000</td> <td>    0.045</td> <td>    0.077</td>\n",
       "</tr>\n",
       "<tr>\n",
       "  <th>Garage Cars</th>     <td>    0.0116</td> <td>    0.011</td> <td>    1.058</td> <td> 0.290</td> <td>   -0.010</td> <td>    0.033</td>\n",
       "</tr>\n",
       "<tr>\n",
       "  <th>Total Bathrooms</th> <td>    0.0438</td> <td>    0.006</td> <td>    6.998</td> <td> 0.000</td> <td>    0.032</td> <td>    0.056</td>\n",
       "</tr>\n",
       "<tr>\n",
       "  <th>Garage Area</th>     <td>    0.0002</td> <td> 3.79e-05</td> <td>    4.662</td> <td> 0.000</td> <td>    0.000</td> <td>    0.000</td>\n",
       "</tr>\n",
       "<tr>\n",
       "  <th>Bsmt Qual</th>       <td>    0.0160</td> <td>    0.006</td> <td>    2.705</td> <td> 0.007</td> <td>    0.004</td> <td>    0.028</td>\n",
       "</tr>\n",
       "<tr>\n",
       "  <th>Year Built</th>      <td>    0.0016</td> <td>    0.000</td> <td>    8.950</td> <td> 0.000</td> <td>    0.001</td> <td>    0.002</td>\n",
       "</tr>\n",
       "<tr>\n",
       "  <th>Total Bsmt SF</th>   <td>    0.0002</td> <td> 1.09e-05</td> <td>   15.197</td> <td> 0.000</td> <td>    0.000</td> <td>    0.000</td>\n",
       "</tr>\n",
       "<tr>\n",
       "  <th>intercept</th>       <td>    7.2812</td> <td>    0.339</td> <td>   21.471</td> <td> 0.000</td> <td>    6.616</td> <td>    7.946</td>\n",
       "</tr>\n",
       "</table>\n",
       "<table class=\"simpletable\">\n",
       "<tr>\n",
       "  <th>Omnibus:</th>       <td>1086.488</td> <th>  Durbin-Watson:     </th> <td>   2.029</td> \n",
       "</tr>\n",
       "<tr>\n",
       "  <th>Prob(Omnibus):</th>  <td> 0.000</td>  <th>  Jarque-Bera (JB):  </th> <td>25395.642</td>\n",
       "</tr>\n",
       "<tr>\n",
       "  <th>Skew:</th>           <td>-1.993</td>  <th>  Prob(JB):          </th> <td>    0.00</td> \n",
       "</tr>\n",
       "<tr>\n",
       "  <th>Kurtosis:</th>       <td>19.780</td>  <th>  Cond. No.          </th> <td>2.69e+05</td> \n",
       "</tr>\n",
       "</table><br/><br/>Warnings:<br/>[1] Standard Errors assume that the covariance matrix of the errors is correctly specified.<br/>[2] The condition number is large, 2.69e+05. This might indicate that there are<br/>strong multicollinearity or other numerical problems."
      ],
      "text/plain": [
       "<class 'statsmodels.iolib.summary.Summary'>\n",
       "\"\"\"\n",
       "                            OLS Regression Results                            \n",
       "==============================================================================\n",
       "Dep. Variable:          SalePrice_log   R-squared:                       0.854\n",
       "Model:                            OLS   Adj. R-squared:                  0.853\n",
       "Method:                 Least Squares   F-statistic:                     1194.\n",
       "Date:                Tue, 28 Jan 2020   Prob (F-statistic):               0.00\n",
       "Time:                        17:09:51   Log-Likelihood:                 884.89\n",
       "No. Observations:                2049   AIC:                            -1748.\n",
       "Df Residuals:                    2038   BIC:                            -1686.\n",
       "Df Model:                          10                                         \n",
       "Covariance Type:            nonrobust                                         \n",
       "===================================================================================\n",
       "                      coef    std err          t      P>|t|      [0.025      0.975]\n",
       "-----------------------------------------------------------------------------------\n",
       "Overall Qual        0.0842      0.005     18.436      0.000       0.075       0.093\n",
       "Exter Qual          0.0102      0.010      0.994      0.321      -0.010       0.030\n",
       "Gr Liv Area         0.0002   1.04e-05     22.537      0.000       0.000       0.000\n",
       "Kitchen Qual        0.0613      0.008      7.489      0.000       0.045       0.077\n",
       "Garage Cars         0.0116      0.011      1.058      0.290      -0.010       0.033\n",
       "Total Bathrooms     0.0438      0.006      6.998      0.000       0.032       0.056\n",
       "Garage Area         0.0002   3.79e-05      4.662      0.000       0.000       0.000\n",
       "Bsmt Qual           0.0160      0.006      2.705      0.007       0.004       0.028\n",
       "Year Built          0.0016      0.000      8.950      0.000       0.001       0.002\n",
       "Total Bsmt SF       0.0002   1.09e-05     15.197      0.000       0.000       0.000\n",
       "intercept           7.2812      0.339     21.471      0.000       6.616       7.946\n",
       "==============================================================================\n",
       "Omnibus:                     1086.488   Durbin-Watson:                   2.029\n",
       "Prob(Omnibus):                  0.000   Jarque-Bera (JB):            25395.642\n",
       "Skew:                          -1.993   Prob(JB):                         0.00\n",
       "Kurtosis:                      19.780   Cond. No.                     2.69e+05\n",
       "==============================================================================\n",
       "\n",
       "Warnings:\n",
       "[1] Standard Errors assume that the covariance matrix of the errors is correctly specified.\n",
       "[2] The condition number is large, 2.69e+05. This might indicate that there are\n",
       "strong multicollinearity or other numerical problems.\n",
       "\"\"\""
      ]
     },
     "execution_count": 59,
     "metadata": {},
     "output_type": "execute_result"
    }
   ],
   "source": [
    "# call the stats metrics package to interpret p-values and t-stats\n",
    "# at an alpha of 5%, Exter Qual was the only p-value that did not demonstrate significance\n",
    "# this column will be removed in model 2\n",
    "X_adj = X\n",
    "X_adj[\"intercept\"] = 1\n",
    "\n",
    "inference_m1 = sm.OLS(y, X_adj).fit()\n",
    "inference_m1.summary()"
   ]
  },
  {
   "cell_type": "markdown",
   "metadata": {},
   "source": [
    "## Model 2: MLR w/ Continuous & Dummy Variables"
   ]
  },
  {
   "cell_type": "code",
   "execution_count": 60,
   "metadata": {},
   "outputs": [],
   "source": [
    "# Updating train dataset with changes made to combined dataset\n",
    "train = combined[combined[\"dataset\"] == \"train\"]\n",
    "\n",
    "target = \"SalePrice_log\"\n",
    "mlr_variables = ['Overall Qual', 'Gr Liv Area', 'Kitchen Qual', 'Total Bathrooms',\n",
    "                 'Total Bsmt SF', 'Garage Area', 'Bsmt Qual', '1st Flr SF',\n",
    "                 'Year Built', 'Year Remod/Add',\n",
    "                 'Neighborhood-Blueste', 'Neighborhood-BrDale','Neighborhood-BrkSide',\n",
    "                 'Neighborhood-ClearCr', 'Neighborhood-CollgCr','Neighborhood-Crawfor',\n",
    "                 'Neighborhood-Edwards', 'Neighborhood-Gilbert', 'Neighborhood-Greens',\n",
    "                 'Neighborhood-GrnHill', 'Neighborhood-IDOTRR', 'Neighborhood-Landmrk',\n",
    "                 'Neighborhood-MeadowV', 'Neighborhood-Mitchel','Neighborhood-NAmes',\n",
    "                 'Neighborhood-NPkVill', 'Neighborhood-NWAmes','Neighborhood-NoRidge',\n",
    "                 'Neighborhood-NridgHt', 'Neighborhood-OldTown', 'Neighborhood-SWISU',\n",
    "                 'Neighborhood-Sawyer', 'Neighborhood-SawyerW', 'Neighborhood-Somerst',\n",
    "                 'Neighborhood-StoneBr', 'Neighborhood-Timber','Neighborhood-Veenker']\n",
    "X = train[mlr_variables]\n",
    "y = train[target]\n",
    "\n",
    "X_train, X_test, y_train, y_test = train_test_split(X, y, random_state = RANDOM_STATE)"
   ]
  },
  {
   "cell_type": "code",
   "execution_count": 61,
   "metadata": {},
   "outputs": [
    {
     "data": {
      "text/plain": [
       "0.8690110487638115"
      ]
     },
     "execution_count": 61,
     "metadata": {},
     "output_type": "execute_result"
    }
   ],
   "source": [
    "# calculating and storing betas\n",
    "lr.fit(X_train, y_train); \n",
    "\n",
    "# R2 of training set\n",
    "# 80% of variance in the training set is explained by model 1 \n",
    "cross_val_score(lr, X_train, y_train, cv=5).mean()"
   ]
  },
  {
   "cell_type": "code",
   "execution_count": 62,
   "metadata": {},
   "outputs": [
    {
     "data": {
      "text/plain": [
       "0.8819976079216768"
      ]
     },
     "execution_count": 62,
     "metadata": {},
     "output_type": "execute_result"
    }
   ],
   "source": [
    "# R2 of test set\n",
    "# 85% of variance in the training set is explained by model 1\n",
    "# this implies that we have positive variance from a decently fit model\n",
    "lr.score(X_test, y_test) # test score"
   ]
  },
  {
   "cell_type": "code",
   "execution_count": 63,
   "metadata": {},
   "outputs": [
    {
     "data": {
      "text/plain": [
       "23939.8567"
      ]
     },
     "execution_count": 63,
     "metadata": {},
     "output_type": "execute_result"
    }
   ],
   "source": [
    "# store $ predictions from model 2 against all training/test data\n",
    "preds_m2 = np.exp(lr.predict(X))\n",
    "# store $ residuals from model 2\n",
    "resids_m2 = np.exp(y) - preds_m2\n",
    "\n",
    "# when predicting SalePrice with model 2, we get a root mean sq error of $23,939\n",
    "# slightly less error compared to model 1 ($25,854)\n",
    "get_RMSE(np.exp(y), preds_m2)"
   ]
  },
  {
   "cell_type": "code",
   "execution_count": 93,
   "metadata": {},
   "outputs": [
    {
     "data": {
      "image/png": "[encoded data removed]",
      "text/plain": [
       "<Figure size 504x360 with 1 Axes>"
      ]
     },
     "metadata": {
      "needs_background": "light"
     },
     "output_type": "display_data"
    }
   ],
   "source": [
    "plt.figure(figsize=(7,5))\n",
    "plt.scatter(preds_m2,resids_m2)\n",
    "plt.xlabel(\"Predicted SalePrice($)\", fontsize=18)\n",
    "plt.xticks(fontsize=12)\n",
    "plt.ylabel(\"Residuals($)\", fontsize=18);\n",
    "plt.yticks(fontsize=12)\n",
    "plt.hlines(0, xmin=np.exp(y).min(),xmax=np.exp(y).max(), colors='red');\n",
    "plt.title(\"Model 2 Residuals By Predicted SalePrice\", fontsize=18);"
   ]
  },
  {
   "cell_type": "code",
   "execution_count": 65,
   "metadata": {},
   "outputs": [
    {
     "data": {
      "text/html": [
       "<table class=\"simpletable\">\n",
       "<caption>OLS Regression Results</caption>\n",
       "<tr>\n",
       "  <th>Dep. Variable:</th>      <td>SalePrice_log</td>  <th>  R-squared:         </th> <td>   0.881</td>\n",
       "</tr>\n",
       "<tr>\n",
       "  <th>Model:</th>                   <td>OLS</td>       <th>  Adj. R-squared:    </th> <td>   0.878</td>\n",
       "</tr>\n",
       "<tr>\n",
       "  <th>Method:</th>             <td>Least Squares</td>  <th>  F-statistic:       </th> <td>   401.2</td>\n",
       "</tr>\n",
       "<tr>\n",
       "  <th>Date:</th>             <td>Tue, 28 Jan 2020</td> <th>  Prob (F-statistic):</th>  <td>  0.00</td> \n",
       "</tr>\n",
       "<tr>\n",
       "  <th>Time:</th>                 <td>17:09:51</td>     <th>  Log-Likelihood:    </th> <td>  1090.6</td>\n",
       "</tr>\n",
       "<tr>\n",
       "  <th>No. Observations:</th>      <td>  2049</td>      <th>  AIC:               </th> <td>  -2105.</td>\n",
       "</tr>\n",
       "<tr>\n",
       "  <th>Df Residuals:</th>          <td>  2011</td>      <th>  BIC:               </th> <td>  -1891.</td>\n",
       "</tr>\n",
       "<tr>\n",
       "  <th>Df Model:</th>              <td>    37</td>      <th>                     </th>     <td> </td>   \n",
       "</tr>\n",
       "<tr>\n",
       "  <th>Covariance Type:</th>      <td>nonrobust</td>    <th>                     </th>     <td> </td>   \n",
       "</tr>\n",
       "</table>\n",
       "<table class=\"simpletable\">\n",
       "<tr>\n",
       "            <td></td>              <th>coef</th>     <th>std err</th>      <th>t</th>      <th>P>|t|</th>  <th>[0.025</th>    <th>0.975]</th>  \n",
       "</tr>\n",
       "<tr>\n",
       "  <th>Overall Qual</th>         <td>    0.0811</td> <td>    0.004</td> <td>   19.066</td> <td> 0.000</td> <td>    0.073</td> <td>    0.089</td>\n",
       "</tr>\n",
       "<tr>\n",
       "  <th>Gr Liv Area</th>          <td>    0.0002</td> <td> 1.06e-05</td> <td>   20.621</td> <td> 0.000</td> <td>    0.000</td> <td>    0.000</td>\n",
       "</tr>\n",
       "<tr>\n",
       "  <th>Kitchen Qual</th>         <td>    0.0491</td> <td>    0.007</td> <td>    6.593</td> <td> 0.000</td> <td>    0.035</td> <td>    0.064</td>\n",
       "</tr>\n",
       "<tr>\n",
       "  <th>Total Bathrooms</th>      <td>    0.0395</td> <td>    0.006</td> <td>    6.797</td> <td> 0.000</td> <td>    0.028</td> <td>    0.051</td>\n",
       "</tr>\n",
       "<tr>\n",
       "  <th>Total Bsmt SF</th>        <td> 9.946e-05</td> <td> 1.58e-05</td> <td>    6.292</td> <td> 0.000</td> <td> 6.85e-05</td> <td>    0.000</td>\n",
       "</tr>\n",
       "<tr>\n",
       "  <th>Garage Area</th>          <td>    0.0002</td> <td> 2.04e-05</td> <td>    9.418</td> <td> 0.000</td> <td>    0.000</td> <td>    0.000</td>\n",
       "</tr>\n",
       "<tr>\n",
       "  <th>Bsmt Qual</th>            <td>    0.0296</td> <td>    0.006</td> <td>    4.808</td> <td> 0.000</td> <td>    0.018</td> <td>    0.042</td>\n",
       "</tr>\n",
       "<tr>\n",
       "  <th>1st Flr SF</th>           <td> 5.451e-05</td> <td> 1.73e-05</td> <td>    3.142</td> <td> 0.002</td> <td> 2.05e-05</td> <td> 8.85e-05</td>\n",
       "</tr>\n",
       "<tr>\n",
       "  <th>Year Built</th>           <td>    0.0009</td> <td>    0.000</td> <td>    3.365</td> <td> 0.001</td> <td>    0.000</td> <td>    0.001</td>\n",
       "</tr>\n",
       "<tr>\n",
       "  <th>Year Remod/Add</th>       <td>    0.0017</td> <td>    0.000</td> <td>    7.327</td> <td> 0.000</td> <td>    0.001</td> <td>    0.002</td>\n",
       "</tr>\n",
       "<tr>\n",
       "  <th>Neighborhood-Blueste</th> <td>   -0.0396</td> <td>    0.067</td> <td>   -0.593</td> <td> 0.553</td> <td>   -0.171</td> <td>    0.091</td>\n",
       "</tr>\n",
       "<tr>\n",
       "  <th>Neighborhood-BrDale</th>  <td>   -0.1210</td> <td>    0.047</td> <td>   -2.593</td> <td> 0.010</td> <td>   -0.212</td> <td>   -0.029</td>\n",
       "</tr>\n",
       "<tr>\n",
       "  <th>Neighborhood-BrkSide</th> <td>    0.0651</td> <td>    0.039</td> <td>    1.686</td> <td> 0.092</td> <td>   -0.011</td> <td>    0.141</td>\n",
       "</tr>\n",
       "<tr>\n",
       "  <th>Neighborhood-ClearCr</th> <td>    0.1898</td> <td>    0.042</td> <td>    4.477</td> <td> 0.000</td> <td>    0.107</td> <td>    0.273</td>\n",
       "</tr>\n",
       "<tr>\n",
       "  <th>Neighborhood-CollgCr</th> <td>    0.0478</td> <td>    0.033</td> <td>    1.459</td> <td> 0.145</td> <td>   -0.016</td> <td>    0.112</td>\n",
       "</tr>\n",
       "<tr>\n",
       "  <th>Neighborhood-Crawfor</th> <td>    0.2000</td> <td>    0.038</td> <td>    5.333</td> <td> 0.000</td> <td>    0.126</td> <td>    0.274</td>\n",
       "</tr>\n",
       "<tr>\n",
       "  <th>Neighborhood-Edwards</th> <td>    0.0173</td> <td>    0.035</td> <td>    0.489</td> <td> 0.625</td> <td>   -0.052</td> <td>    0.086</td>\n",
       "</tr>\n",
       "<tr>\n",
       "  <th>Neighborhood-Gilbert</th> <td>    0.0685</td> <td>    0.034</td> <td>    2.006</td> <td> 0.045</td> <td>    0.002</td> <td>    0.135</td>\n",
       "</tr>\n",
       "<tr>\n",
       "  <th>Neighborhood-Greens</th>  <td>    0.0308</td> <td>    0.089</td> <td>    0.347</td> <td> 0.729</td> <td>   -0.143</td> <td>    0.205</td>\n",
       "</tr>\n",
       "<tr>\n",
       "  <th>Neighborhood-GrnHill</th> <td>    0.5446</td> <td>    0.107</td> <td>    5.111</td> <td> 0.000</td> <td>    0.336</td> <td>    0.754</td>\n",
       "</tr>\n",
       "<tr>\n",
       "  <th>Neighborhood-IDOTRR</th>  <td>   -0.1057</td> <td>    0.040</td> <td>   -2.663</td> <td> 0.008</td> <td>   -0.184</td> <td>   -0.028</td>\n",
       "</tr>\n",
       "<tr>\n",
       "  <th>Neighborhood-Landmrk</th> <td>   -0.0613</td> <td>    0.147</td> <td>   -0.417</td> <td> 0.677</td> <td>   -0.350</td> <td>    0.227</td>\n",
       "</tr>\n",
       "<tr>\n",
       "  <th>Neighborhood-MeadowV</th> <td>   -0.0976</td> <td>    0.044</td> <td>   -2.210</td> <td> 0.027</td> <td>   -0.184</td> <td>   -0.011</td>\n",
       "</tr>\n",
       "<tr>\n",
       "  <th>Neighborhood-Mitchel</th> <td>    0.0801</td> <td>    0.035</td> <td>    2.262</td> <td> 0.024</td> <td>    0.011</td> <td>    0.150</td>\n",
       "</tr>\n",
       "<tr>\n",
       "  <th>Neighborhood-NAmes</th>   <td>    0.1001</td> <td>    0.034</td> <td>    2.963</td> <td> 0.003</td> <td>    0.034</td> <td>    0.166</td>\n",
       "</tr>\n",
       "<tr>\n",
       "  <th>Neighborhood-NPkVill</th> <td>   -0.0341</td> <td>    0.047</td> <td>   -0.719</td> <td> 0.472</td> <td>   -0.127</td> <td>    0.059</td>\n",
       "</tr>\n",
       "<tr>\n",
       "  <th>Neighborhood-NWAmes</th>  <td>    0.0590</td> <td>    0.035</td> <td>    1.669</td> <td> 0.095</td> <td>   -0.010</td> <td>    0.128</td>\n",
       "</tr>\n",
       "<tr>\n",
       "  <th>Neighborhood-NoRidge</th> <td>    0.0944</td> <td>    0.038</td> <td>    2.468</td> <td> 0.014</td> <td>    0.019</td> <td>    0.169</td>\n",
       "</tr>\n",
       "<tr>\n",
       "  <th>Neighborhood-NridgHt</th> <td>    0.0896</td> <td>    0.034</td> <td>    2.647</td> <td> 0.008</td> <td>    0.023</td> <td>    0.156</td>\n",
       "</tr>\n",
       "<tr>\n",
       "  <th>Neighborhood-OldTown</th> <td>   -0.0343</td> <td>    0.038</td> <td>   -0.910</td> <td> 0.363</td> <td>   -0.108</td> <td>    0.040</td>\n",
       "</tr>\n",
       "<tr>\n",
       "  <th>Neighborhood-SWISU</th>   <td>    0.0218</td> <td>    0.044</td> <td>    0.501</td> <td> 0.617</td> <td>   -0.064</td> <td>    0.107</td>\n",
       "</tr>\n",
       "<tr>\n",
       "  <th>Neighborhood-Sawyer</th>  <td>    0.0940</td> <td>    0.035</td> <td>    2.661</td> <td> 0.008</td> <td>    0.025</td> <td>    0.163</td>\n",
       "</tr>\n",
       "<tr>\n",
       "  <th>Neighborhood-SawyerW</th> <td>    0.0162</td> <td>    0.035</td> <td>    0.467</td> <td> 0.640</td> <td>   -0.052</td> <td>    0.084</td>\n",
       "</tr>\n",
       "<tr>\n",
       "  <th>Neighborhood-Somerst</th> <td>    0.0410</td> <td>    0.033</td> <td>    1.226</td> <td> 0.220</td> <td>   -0.025</td> <td>    0.107</td>\n",
       "</tr>\n",
       "<tr>\n",
       "  <th>Neighborhood-StoneBr</th> <td>    0.1149</td> <td>    0.039</td> <td>    2.947</td> <td> 0.003</td> <td>    0.038</td> <td>    0.191</td>\n",
       "</tr>\n",
       "<tr>\n",
       "  <th>Neighborhood-Timber</th>  <td>    0.0835</td> <td>    0.037</td> <td>    2.247</td> <td> 0.025</td> <td>    0.011</td> <td>    0.156</td>\n",
       "</tr>\n",
       "<tr>\n",
       "  <th>Neighborhood-Veenker</th> <td>    0.1099</td> <td>    0.047</td> <td>    2.342</td> <td> 0.019</td> <td>    0.018</td> <td>    0.202</td>\n",
       "</tr>\n",
       "<tr>\n",
       "  <th>intercept</th>            <td>    5.5003</td> <td>    0.619</td> <td>    8.889</td> <td> 0.000</td> <td>    4.287</td> <td>    6.714</td>\n",
       "</tr>\n",
       "</table>\n",
       "<table class=\"simpletable\">\n",
       "<tr>\n",
       "  <th>Omnibus:</th>       <td>1214.605</td> <th>  Durbin-Watson:     </th> <td>   2.034</td> \n",
       "</tr>\n",
       "<tr>\n",
       "  <th>Prob(Omnibus):</th>  <td> 0.000</td>  <th>  Jarque-Bera (JB):  </th> <td>36224.222</td>\n",
       "</tr>\n",
       "<tr>\n",
       "  <th>Skew:</th>           <td>-2.256</td>  <th>  Prob(JB):          </th> <td>    0.00</td> \n",
       "</tr>\n",
       "<tr>\n",
       "  <th>Kurtosis:</th>       <td>23.098</td>  <th>  Cond. No.          </th> <td>7.04e+05</td> \n",
       "</tr>\n",
       "</table><br/><br/>Warnings:<br/>[1] Standard Errors assume that the covariance matrix of the errors is correctly specified.<br/>[2] The condition number is large, 7.04e+05. This might indicate that there are<br/>strong multicollinearity or other numerical problems."
      ],
      "text/plain": [
       "<class 'statsmodels.iolib.summary.Summary'>\n",
       "\"\"\"\n",
       "                            OLS Regression Results                            \n",
       "==============================================================================\n",
       "Dep. Variable:          SalePrice_log   R-squared:                       0.881\n",
       "Model:                            OLS   Adj. R-squared:                  0.878\n",
       "Method:                 Least Squares   F-statistic:                     401.2\n",
       "Date:                Tue, 28 Jan 2020   Prob (F-statistic):               0.00\n",
       "Time:                        17:09:51   Log-Likelihood:                 1090.6\n",
       "No. Observations:                2049   AIC:                            -2105.\n",
       "Df Residuals:                    2011   BIC:                            -1891.\n",
       "Df Model:                          37                                         \n",
       "Covariance Type:            nonrobust                                         \n",
       "========================================================================================\n",
       "                           coef    std err          t      P>|t|      [0.025      0.975]\n",
       "----------------------------------------------------------------------------------------\n",
       "Overall Qual             0.0811      0.004     19.066      0.000       0.073       0.089\n",
       "Gr Liv Area              0.0002   1.06e-05     20.621      0.000       0.000       0.000\n",
       "Kitchen Qual             0.0491      0.007      6.593      0.000       0.035       0.064\n",
       "Total Bathrooms          0.0395      0.006      6.797      0.000       0.028       0.051\n",
       "Total Bsmt SF         9.946e-05   1.58e-05      6.292      0.000    6.85e-05       0.000\n",
       "Garage Area              0.0002   2.04e-05      9.418      0.000       0.000       0.000\n",
       "Bsmt Qual                0.0296      0.006      4.808      0.000       0.018       0.042\n",
       "1st Flr SF            5.451e-05   1.73e-05      3.142      0.002    2.05e-05    8.85e-05\n",
       "Year Built               0.0009      0.000      3.365      0.001       0.000       0.001\n",
       "Year Remod/Add           0.0017      0.000      7.327      0.000       0.001       0.002\n",
       "Neighborhood-Blueste    -0.0396      0.067     -0.593      0.553      -0.171       0.091\n",
       "Neighborhood-BrDale     -0.1210      0.047     -2.593      0.010      -0.212      -0.029\n",
       "Neighborhood-BrkSide     0.0651      0.039      1.686      0.092      -0.011       0.141\n",
       "Neighborhood-ClearCr     0.1898      0.042      4.477      0.000       0.107       0.273\n",
       "Neighborhood-CollgCr     0.0478      0.033      1.459      0.145      -0.016       0.112\n",
       "Neighborhood-Crawfor     0.2000      0.038      5.333      0.000       0.126       0.274\n",
       "Neighborhood-Edwards     0.0173      0.035      0.489      0.625      -0.052       0.086\n",
       "Neighborhood-Gilbert     0.0685      0.034      2.006      0.045       0.002       0.135\n",
       "Neighborhood-Greens      0.0308      0.089      0.347      0.729      -0.143       0.205\n",
       "Neighborhood-GrnHill     0.5446      0.107      5.111      0.000       0.336       0.754\n",
       "Neighborhood-IDOTRR     -0.1057      0.040     -2.663      0.008      -0.184      -0.028\n",
       "Neighborhood-Landmrk    -0.0613      0.147     -0.417      0.677      -0.350       0.227\n",
       "Neighborhood-MeadowV    -0.0976      0.044     -2.210      0.027      -0.184      -0.011\n",
       "Neighborhood-Mitchel     0.0801      0.035      2.262      0.024       0.011       0.150\n",
       "Neighborhood-NAmes       0.1001      0.034      2.963      0.003       0.034       0.166\n",
       "Neighborhood-NPkVill    -0.0341      0.047     -0.719      0.472      -0.127       0.059\n",
       "Neighborhood-NWAmes      0.0590      0.035      1.669      0.095      -0.010       0.128\n",
       "Neighborhood-NoRidge     0.0944      0.038      2.468      0.014       0.019       0.169\n",
       "Neighborhood-NridgHt     0.0896      0.034      2.647      0.008       0.023       0.156\n",
       "Neighborhood-OldTown    -0.0343      0.038     -0.910      0.363      -0.108       0.040\n",
       "Neighborhood-SWISU       0.0218      0.044      0.501      0.617      -0.064       0.107\n",
       "Neighborhood-Sawyer      0.0940      0.035      2.661      0.008       0.025       0.163\n",
       "Neighborhood-SawyerW     0.0162      0.035      0.467      0.640      -0.052       0.084\n",
       "Neighborhood-Somerst     0.0410      0.033      1.226      0.220      -0.025       0.107\n",
       "Neighborhood-StoneBr     0.1149      0.039      2.947      0.003       0.038       0.191\n",
       "Neighborhood-Timber      0.0835      0.037      2.247      0.025       0.011       0.156\n",
       "Neighborhood-Veenker     0.1099      0.047      2.342      0.019       0.018       0.202\n",
       "intercept                5.5003      0.619      8.889      0.000       4.287       6.714\n",
       "==============================================================================\n",
       "Omnibus:                     1214.605   Durbin-Watson:                   2.034\n",
       "Prob(Omnibus):                  0.000   Jarque-Bera (JB):            36224.222\n",
       "Skew:                          -2.256   Prob(JB):                         0.00\n",
       "Kurtosis:                      23.098   Cond. No.                     7.04e+05\n",
       "==============================================================================\n",
       "\n",
       "Warnings:\n",
       "[1] Standard Errors assume that the covariance matrix of the errors is correctly specified.\n",
       "[2] The condition number is large, 7.04e+05. This might indicate that there are\n",
       "strong multicollinearity or other numerical problems.\n",
       "\"\"\""
      ]
     },
     "execution_count": 65,
     "metadata": {},
     "output_type": "execute_result"
    }
   ],
   "source": [
    "# call the stats metrics package to interpret p-values and t-stats\n",
    "# at an alpha of 5%, Exter Qual was the only p-value that did not demonstrate significance\n",
    "# this column will be removed in model 2\n",
    "X_adj = X\n",
    "X_adj[\"intercept\"] = 1\n",
    "\n",
    "inference_m2 = sm.OLS(y, X_adj).fit()\n",
    "inference_m2.summary()"
   ]
  },
  {
   "cell_type": "markdown",
   "metadata": {},
   "source": [
    "## Model 3: Lasso"
   ]
  },
  {
   "cell_type": "code",
   "execution_count": 66,
   "metadata": {},
   "outputs": [],
   "source": [
    "# Updating train dataset with changes made to combined dataset\n",
    "train = combined[combined[\"dataset\"] == \"train\"]\n",
    "\n",
    "target = \"SalePrice_log\"\n",
    "\n",
    "X = train.drop(columns=[\"SalePrice\",\"SalePrice_log\"])._get_numeric_data()\n",
    "y = train[target]\n",
    "\n",
    "X_train, X_test, y_train, y_test = train_test_split(X, y, random_state = RANDOM_STATE)"
   ]
  },
  {
   "cell_type": "code",
   "execution_count": 67,
   "metadata": {},
   "outputs": [],
   "source": [
    "ss = StandardScaler()\n",
    "\n",
    "# Scale all x variables into z scores\n",
    "Z_train = ss.fit_transform(X_train)\n",
    "Z_test = ss.transform(X_test)\n",
    "Z = ss.transform(X)"
   ]
  },
  {
   "cell_type": "code",
   "execution_count": 68,
   "metadata": {},
   "outputs": [],
   "source": [
    "# Create list of alpha values to iterate against\n",
    "l_alphas = np.logspace(-3, 0, 100)\n",
    "\n",
    "# cross-val over that list of alphas.\n",
    "lasso_model = LassoCV(alphas=l_alphas, cv=5, max_iter=5000)\n",
    "\n",
    "# Fit model using best ridge alpha!\n",
    "lasso_model = lasso_model.fit(Z_train, y_train)"
   ]
  },
  {
   "cell_type": "code",
   "execution_count": 69,
   "metadata": {},
   "outputs": [
    {
     "data": {
      "text/plain": [
       "0.003511191734215131"
      ]
     },
     "execution_count": 69,
     "metadata": {},
     "output_type": "execute_result"
    }
   ],
   "source": [
    "# return the optimal alpha\n",
    "lasso_model.alpha_"
   ]
  },
  {
   "cell_type": "code",
   "execution_count": 70,
   "metadata": {},
   "outputs": [
    {
     "name": "stdout",
     "output_type": "stream",
     "text": [
      "0.9293237407236394\n",
      "0.9174595100844903\n"
     ]
    }
   ],
   "source": [
    "# the train and test R2 scores of model 2 were 0.86 and 0.88\n",
    "# the lasso model explains between 4-5% more of the variance\n",
    "print(lasso_model.score(Z_train, y_train))\n",
    "print(lasso_model.score(Z_test, y_test))"
   ]
  },
  {
   "cell_type": "code",
   "execution_count": 71,
   "metadata": {},
   "outputs": [
    {
     "data": {
      "text/plain": [
       "18951.269"
      ]
     },
     "execution_count": 71,
     "metadata": {},
     "output_type": "execute_result"
    }
   ],
   "source": [
    "# store $ predictions from model 3 against all training/test data\n",
    "preds_m3 = np.exp(lasso_model.predict(Z))\n",
    "# store $ residuals from model 3\n",
    "resids_m3 = np.exp(y) - preds_m3\n",
    "\n",
    "# when predicting SalePrice with model 3, we get a root mean sq error of $18,951\n",
    "# ~$5k less error compared to model 2 ($23,939)\n",
    "get_RMSE(np.exp(y), preds_m3)"
   ]
  },
  {
   "cell_type": "code",
   "execution_count": 92,
   "metadata": {},
   "outputs": [
    {
     "data": {
      "image/png": "[encoded data removed]",
      "text/plain": [
       "<Figure size 504x360 with 1 Axes>"
      ]
     },
     "metadata": {
      "needs_background": "light"
     },
     "output_type": "display_data"
    }
   ],
   "source": [
    "plt.figure(figsize=(7,5))\n",
    "plt.scatter(preds_m3,resids_m3)\n",
    "plt.xlabel(\"Predicted SalePrice($)\", fontsize=18)\n",
    "plt.xticks(fontsize=12)\n",
    "plt.ylabel(\"Residuals($)\", fontsize=18);\n",
    "plt.yticks(fontsize=12)\n",
    "plt.hlines(0, xmin=np.exp(y).min(),xmax=np.exp(y).max(), colors='red');\n",
    "plt.title(\"Model 3 Residuals By Predicted SalePrice\", fontsize=18);"
   ]
  },
  {
   "cell_type": "markdown",
   "metadata": {},
   "source": [
    "## Conclusion/Recommendations"
   ]
  },
  {
   "cell_type": "markdown",
   "metadata": {},
   "source": [
    "### Conclusion"
   ]
  },
  {
   "cell_type": "markdown",
   "metadata": {},
   "source": [
    "- The RMSE's of the three models are as follows:\n",
    "    - Model 1 Continuous Only): 25,854\n",
    "    - Model 2 (Continuous + Dummies): 23,939\n",
    "    - Model 3 (LASSO): 18,951\n",
    "- The LASSO model is the best model of the three for the following reasons:\n",
    "    - Lowest RMSE\n",
    "    - Makes use of every feature\n",
    "    - Zeroes out spurious variables and allows for interpretability/inference of the non-zero coefficients\n",
    "- The 18,951 RMSE of the LASSO model is still a +/-10.4% error from the train set mean SalePrice (181,479)\n",
    "    - Zillow's statewide median error for Iowa is only +/-1.4%"
   ]
  },
  {
   "cell_type": "markdown",
   "metadata": {},
   "source": [
    "### Recommendations"
   ]
  },
  {
   "cell_type": "markdown",
   "metadata": {},
   "source": [
    "- I would recommend that the LASSO model prediction be used as a supplement to Zillow's Zestimate for homes in Ames\n",
    "    - Particularly when dealing with homes rated highly on the tax assessor's \"Overall Quality\" rating.\n",
    "    - That score was most correlated with SalePrice in all three of my models\n",
    "- Zillow's Zestimate is a far superior model as of now."
   ]
  },
  {
   "cell_type": "markdown",
   "metadata": {},
   "source": [
    "### Next Steps"
   ]
  },
  {
   "cell_type": "markdown",
   "metadata": {},
   "source": [
    "- Update LASSO model with more recent data\n",
    "    - Current dataset stops at 2010\n",
    "- Incorporate real-time sale prices by neighborhood and incorporte neighborhood detail into LASSO model\n",
    "    - The current model zeroes out the coefficients for most neighborhood dummies\n",
    "    - Perhaps a continuous feature of avg SalePrice of the neighborhood a home is in would be better"
   ]
  },
  {
   "cell_type": "markdown",
   "metadata": {},
   "source": [
    "### References\n",
    "- https://www.zillow.com/zestimate/"
   ]
  },
  {
   "cell_type": "markdown",
   "metadata": {},
   "source": [
    "# [Link back to top of notebook^^](#Problem-Statement)"
   ]
  },
  {
   "cell_type": "markdown",
   "metadata": {},
   "source": [
    "## Kaggle Submission\n",
    "\n",
    "WHATEVER TRANSFORMATIONS ARE DONE TO TRAINING DATASET MUST BE DONE TO VALIDATION SET"
   ]
  },
  {
   "cell_type": "code",
   "execution_count": 73,
   "metadata": {},
   "outputs": [],
   "source": [
    "validation = combined[combined[\"dataset\"] == \"validation\"]"
   ]
  },
  {
   "cell_type": "code",
   "execution_count": 74,
   "metadata": {},
   "outputs": [
    {
     "data": {
      "text/plain": [
       "(878, 290)"
      ]
     },
     "execution_count": 74,
     "metadata": {},
     "output_type": "execute_result"
    }
   ],
   "source": [
    "validation.shape"
   ]
  },
  {
   "cell_type": "code",
   "execution_count": 75,
   "metadata": {},
   "outputs": [],
   "source": [
    "Z_validation = ss.transform(validation.drop(columns=[\"SalePrice\",\"SalePrice_log\"])._get_numeric_data())\n",
    "\n",
    "preds_kaggle = np.exp(lasso_model.predict(Z_validation))"
   ]
  },
  {
   "cell_type": "code",
   "execution_count": 76,
   "metadata": {},
   "outputs": [
    {
     "data": {
      "text/plain": [
       "array([137846.82235175, 162228.49731054, 209824.46511185, 100614.83775937,\n",
       "       171774.36154076,  92108.44825065, 107237.78755522, 149919.43388605,\n",
       "       179661.81684237, 167705.71441046])"
      ]
     },
     "execution_count": 76,
     "metadata": {},
     "output_type": "execute_result"
    }
   ],
   "source": [
    "preds_kaggle[:10]"
   ]
  },
  {
   "cell_type": "code",
   "execution_count": 77,
   "metadata": {},
   "outputs": [
    {
     "data": {
      "text/html": [
       "<div>\n",
       "<style scoped>\n",
       "    .dataframe tbody tr th:only-of-type {\n",
       "        vertical-align: middle;\n",
       "    }\n",
       "\n",
       "    .dataframe tbody tr th {\n",
       "        vertical-align: top;\n",
       "    }\n",
       "\n",
       "    .dataframe thead th {\n",
       "        text-align: right;\n",
       "    }\n",
       "</style>\n",
       "<table border=\"1\" class=\"dataframe\">\n",
       "  <thead>\n",
       "    <tr style=\"text-align: right;\">\n",
       "      <th></th>\n",
       "      <th>Id</th>\n",
       "      <th>SalePrice</th>\n",
       "    </tr>\n",
       "  </thead>\n",
       "  <tbody>\n",
       "    <tr>\n",
       "      <th>0</th>\n",
       "      <td>2658</td>\n",
       "      <td>137846.822352</td>\n",
       "    </tr>\n",
       "    <tr>\n",
       "      <th>1</th>\n",
       "      <td>2718</td>\n",
       "      <td>162228.497311</td>\n",
       "    </tr>\n",
       "    <tr>\n",
       "      <th>2</th>\n",
       "      <td>2414</td>\n",
       "      <td>209824.465112</td>\n",
       "    </tr>\n",
       "    <tr>\n",
       "      <th>3</th>\n",
       "      <td>1989</td>\n",
       "      <td>100614.837759</td>\n",
       "    </tr>\n",
       "    <tr>\n",
       "      <th>4</th>\n",
       "      <td>625</td>\n",
       "      <td>171774.361541</td>\n",
       "    </tr>\n",
       "  </tbody>\n",
       "</table>\n",
       "</div>"
      ],
      "text/plain": [
       "     Id      SalePrice\n",
       "0  2658  137846.822352\n",
       "1  2718  162228.497311\n",
       "2  2414  209824.465112\n",
       "3  1989  100614.837759\n",
       "4   625  171774.361541"
      ]
     },
     "execution_count": 77,
     "metadata": {},
     "output_type": "execute_result"
    }
   ],
   "source": [
    "# need to submit to Kaggle in appropriate form of .csv\n",
    "preds_col = pd.Series(preds_kaggle, name = \"SalePrice\")\n",
    "\n",
    "# combine with Id\n",
    "id_col = validation[\"Id\"]\n",
    "output = pd.concat([id_col, preds_col], axis=1)\n",
    "output.head()"
   ]
  },
  {
   "cell_type": "code",
   "execution_count": 78,
   "metadata": {},
   "outputs": [
    {
     "name": "stdout",
     "output_type": "stream",
     "text": [
      "(878,)\n",
      "(878,)\n"
     ]
    }
   ],
   "source": [
    "print(preds_col.shape)\n",
    "print(validation[\"Id\"].shape)"
   ]
  },
  {
   "cell_type": "code",
   "execution_count": 79,
   "metadata": {},
   "outputs": [],
   "source": [
    "output.to_csv('./output/submission.csv', index=False)"
   ]
  },
  {
   "cell_type": "code",
   "execution_count": 80,
   "metadata": {},
   "outputs": [
    {
     "data": {
      "text/plain": [
       "181479.01805758907"
      ]
     },
     "execution_count": 80,
     "metadata": {},
     "output_type": "execute_result"
    }
   ],
   "source": [
    "train[\"SalePrice\"].mean()"
   ]
  },
  {
   "cell_type": "code",
   "execution_count": 81,
   "metadata": {},
   "outputs": [
    {
     "data": {
      "text/plain": [
       "0.1044253054072372"
      ]
     },
     "execution_count": 81,
     "metadata": {},
     "output_type": "execute_result"
    }
   ],
   "source": [
    "18951/181479"
   ]
  }
 ],
 "metadata": {
  "kernelspec": {
   "display_name": "Python 3",
   "language": "python",
   "name": "python3"
  },
  "language_info": {
   "codemirror_mode": {
    "name": "ipython",
    "version": 3
   },
   "file_extension": ".py",
   "mimetype": "text/x-python",
   "name": "python",
   "nbconvert_exporter": "python",
   "pygments_lexer": "ipython3",
   "version": "3.7.5"
  }
 },
 "nbformat": 4,
 "nbformat_minor": 2
}
